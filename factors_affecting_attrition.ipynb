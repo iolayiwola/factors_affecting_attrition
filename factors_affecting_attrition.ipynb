{
 "cells": [
  {
   "cell_type": "markdown",
   "id": "1f0c7960-0b2a-4819-9f5b-b3e47f40d146",
   "metadata": {
    "tags": []
   },
   "source": [
    "<h1 style=\"text-align: center;\">Factors Affecting Attrition.</h1>\n",
    "<h3 style=\"text-align: center;\"><b>By: Ibrahim Olayiwola</b></h3>"
   ]
  },
  {
   "cell_type": "markdown",
   "id": "5f52c639-e3ab-48f8-bdb5-e2975c7f67f7",
   "metadata": {
    "jp-MarkdownHeadingCollapsed": true,
    "tags": []
   },
   "source": [
    "## Table of Contents\n",
    "<ul>\n",
    "<li><a href=\"#intro\">Introduction</a></li>\n",
    "<li><a href=\"#wrangling\">Data Wrangling</a></li>\n",
    "<li><a href=\"#eda\">Exploratory Data Analysis</a></li>\n",
    "<li><a href=\"#limit\">Limitations</a></li>\n",
    "<li><a href=\"#conclusions\">Conclusions</a></li>\n",
    "</ul>"
   ]
  },
  {
   "cell_type": "markdown",
   "id": "07ccf33c-5922-4d38-896e-ccd679f7fd83",
   "metadata": {
    "tags": []
   },
   "source": [
    "<a id='intro'></a>\n",
    "<h2 style=\"text-align: center;\">Introduction</h2>"
   ]
  },
  {
   "cell_type": "markdown",
   "id": "f0b361fc-3477-4734-ad3d-79d432ff332d",
   "metadata": {},
   "source": [
    "### What is Attrition.\n",
    "From [Gartner](https://www.gartner.com/en/human-resources/glossary/attrition#:~:text=Attrition%20is%20the%20departure%20of,%2C%20termination%2C%20death%20or%20retirement.), attrition is the departure of employees from the organization for any reason (voluntary or involuntary), including resignation, termination, death or retirement.\n",
    "\n",
    "Many factors can lead to attrition, this may include, a better offer from another company, natural disasters, relocation of employees etc. \n",
    "\n",
    "This project aims to answer some questions regarding attrition in an unidentified company. The questions the projects tries to answer includes;\n",
    "\n",
    "- What are the three main factors behind employee attrition?\n",
    "- What is the relationship between education and monthly income?\n",
    "- What is the effect of age on attrition?\n",
    "- Is income a main factor in employee attrition?\n",
    "- How does work-life balance impact on employee attrition?\n",
    "\n",
    "The dataset is a database of a company's employees. It also contains the attrition data of the employees. SQL was used to extract the data from the database, and it was passed into a pandas dataframe. Some columns were assessed. \n",
    "\n",
    "\n",
    "There are 36 columns in the dataset. They are:\n",
    "- Age: Age of employee.\n",
    "- Attrition: Did an employee leave the company or not?\n",
    "- BusinessTravel: Do the employee travel for work purposes?\n",
    "- DailyRate:\n",
    "- Department: Department employee works.\n",
    "- DistanceFromHome: Distance of workplace from employee's home.\n",
    "- Education: Level of education of employee.\n",
    "- EducationField: Field of study of employee.\n",
    "- EmployeeCount: Number of employee with this employee number.\n",
    "- EmployeeNumber: ID number of employee.\n",
    "- EnvironmentSatisfaction: Environment satisfaction of employee.\n",
    "- Gender: Gender of employee.\n",
    "- HourlyRate:\n",
    "- JobInvolvement: How involved is the employee with his/her work?\n",
    "- JobLevel: Level of employee.\n",
    "- JobRole: Employee's job role\n",
    "- JobSatisfaction: Job satisfaction level.\n",
    "- MaritalStatus: Employee's marital status.\n",
    "- MonthlyIncome: Employee's monthly income.\n",
    "- MonthlyRate\n",
    "- NumCompaniesWorked: Number of companies employee has worked.\n",
    "- Over18: Is the employee over 18 years of age?\n",
    "- OverTime: Does the employee work overtime?\n",
    "- PercentSalaryHike: Percentage of salary hike.\n",
    "- PerformanceRating: Performance rating of employee.\n",
    "- RelationshipSatisfaction: Employee's relationship satisfaction with significant other.\n",
    "- StandardHours: Working hours in a week.\n",
    "- StockOptionLevel: Employee stock option.\n",
    "- TotalWorkingYears: Total number of years an employee has worked.\n",
    "- TrainingTimesLastYear: Hours spent on training last year.\n",
    "- WorkLifeBalance: Level of work life balance.\n",
    "- YearsAtCompany: Number of years at company.\n",
    "- YearsInCurrentRole: Number of years in current role.\n",
    "- YearsSinceLastPromotion: Number of years since last promotion.\n",
    "- YearsWithCurrManager: Number of years with current manager."
   ]
  },
  {
   "cell_type": "markdown",
   "id": "8c39a0a6-79d9-4079-9fa2-c9ae78c161c2",
   "metadata": {
    "tags": []
   },
   "source": [
    "<a id='wrangling'></a>\n",
    "<h2 style=\"text-align: center;\">Data Wrangling</h2>\n",
    "\n",
    "In this section of the report, I loaded the data, check for cleanliness, and then trimmed and cleaned the dataset for analysis."
   ]
  },
  {
   "cell_type": "code",
   "execution_count": 1,
   "id": "e86572df-da93-45b7-9cc6-f8de140294b6",
   "metadata": {},
   "outputs": [],
   "source": [
    "# Import sqlite library\n",
    "import sqlite3\n",
    "\n",
    "# Import python packages\n",
    "import numpy as np\n",
    "import pandas as pd\n",
    "import matplotlib.pyplot as plt\n",
    "import seaborn as sns\n",
    "\n",
    "%matplotlib inline"
   ]
  },
  {
   "cell_type": "code",
   "execution_count": 2,
   "id": "0995fa8f-fe94-4b84-b592-e8ad07f8851e",
   "metadata": {},
   "outputs": [
    {
     "name": "stdout",
     "output_type": "stream",
     "text": [
      "Package imported successfully\n"
     ]
    }
   ],
   "source": [
    "# Check if package imported successfully\n",
    "print('Package imported successfully')"
   ]
  },
  {
   "cell_type": "code",
   "execution_count": 3,
   "id": "a41e8203-115c-431e-9cac-4f6c9f8b483b",
   "metadata": {},
   "outputs": [
    {
     "name": "stdout",
     "output_type": "stream",
     "text": [
      "Connected to DB successfully <class 'sqlite3.Connection'>\n"
     ]
    }
   ],
   "source": [
    "# Connect to database\n",
    "connect = sqlite3.connect(\"attr_data.db\")\n",
    "\n",
    "# Check if DB is created\n",
    "print(\"Connected to DB successfully\",  type(connect))"
   ]
  },
  {
   "cell_type": "code",
   "execution_count": 4,
   "id": "6e59d3c1-c38a-4a60-86f9-5a1483a60431",
   "metadata": {},
   "outputs": [
    {
     "name": "stdout",
     "output_type": "stream",
     "text": [
      "Cursor object created successfully \n",
      " <class 'sqlite3.Cursor'>\n"
     ]
    }
   ],
   "source": [
    "# Create a cursor object---cursor is used to run queries\n",
    "cursor = connect.cursor()\n",
    "\n",
    "# Check if cursor object is created successfully\n",
    "print(\"Cursor object created successfully \\n\", type(cursor))"
   ]
  },
  {
   "cell_type": "code",
   "execution_count": 5,
   "id": "8160a30c-23a2-45fb-8ee3-4c64f77d9452",
   "metadata": {},
   "outputs": [
    {
     "data": {
      "text/plain": [
       "[('attrition_records',), ('sqlite_sequence',)]"
      ]
     },
     "execution_count": 5,
     "metadata": {},
     "output_type": "execute_result"
    }
   ],
   "source": [
    "# View table names\n",
    "query = \"\"\"\n",
    "SELECT name\n",
    "FROM sqlite_schema\n",
    "WHERE type = 'table';\n",
    "\"\"\"\n",
    "\n",
    "# execute query\n",
    "cursor.execute(query)\n",
    "\n",
    "# View result\n",
    "query_result = cursor.fetchall()\n",
    "query_result"
   ]
  },
  {
   "cell_type": "code",
   "execution_count": 6,
   "id": "b82ed231-55d6-4b60-b630-4a082da3a734",
   "metadata": {},
   "outputs": [
    {
     "data": {
      "text/plain": [
       "[('attrition_records', 1470)]"
      ]
     },
     "execution_count": 6,
     "metadata": {},
     "output_type": "execute_result"
    }
   ],
   "source": [
    "# Select all from the sqlite_sequence\n",
    "query = \"\"\"\n",
    "SELECT *\n",
    "FROM sqlite_sequence\"\"\"\n",
    "\n",
    "# execute\n",
    "cursor.execute(query)\n",
    "\n",
    "# Output the query\n",
    "query_output = cursor.fetchall()\n",
    "query_output"
   ]
  },
  {
   "cell_type": "code",
   "execution_count": 7,
   "id": "da721a00-efd3-4267-8957-5206e51c7c9d",
   "metadata": {},
   "outputs": [],
   "source": [
    "df = pd.read_sql_query(\"SELECT * FROM attrition_records\", connect)\n"
   ]
  },
  {
   "cell_type": "code",
   "execution_count": 8,
   "id": "940a0662-3853-4d35-a165-b27ccaecc0bb",
   "metadata": {},
   "outputs": [
    {
     "data": {
      "text/html": [
       "<div>\n",
       "<style scoped>\n",
       "    .dataframe tbody tr th:only-of-type {\n",
       "        vertical-align: middle;\n",
       "    }\n",
       "\n",
       "    .dataframe tbody tr th {\n",
       "        vertical-align: top;\n",
       "    }\n",
       "\n",
       "    .dataframe thead th {\n",
       "        text-align: right;\n",
       "    }\n",
       "</style>\n",
       "<table border=\"1\" class=\"dataframe\">\n",
       "  <thead>\n",
       "    <tr style=\"text-align: right;\">\n",
       "      <th></th>\n",
       "      <th>id</th>\n",
       "      <th>Age</th>\n",
       "      <th>Attrition</th>\n",
       "      <th>BusinessTravel</th>\n",
       "      <th>DailyRate</th>\n",
       "      <th>Department</th>\n",
       "      <th>DistanceFromHome</th>\n",
       "      <th>Education</th>\n",
       "      <th>EducationField</th>\n",
       "      <th>EmployeeCount</th>\n",
       "      <th>...</th>\n",
       "      <th>RelationshipSatisfaction</th>\n",
       "      <th>StandardHours</th>\n",
       "      <th>StockOptionLevel</th>\n",
       "      <th>TotalWorkingYears</th>\n",
       "      <th>TrainingTimesLastYear</th>\n",
       "      <th>WorkLifeBalance</th>\n",
       "      <th>YearsAtCompany</th>\n",
       "      <th>YearsInCurrentRole</th>\n",
       "      <th>YearsSinceLastPromotion</th>\n",
       "      <th>YearsWithCurrManager</th>\n",
       "    </tr>\n",
       "  </thead>\n",
       "  <tbody>\n",
       "    <tr>\n",
       "      <th>0</th>\n",
       "      <td>1</td>\n",
       "      <td>41</td>\n",
       "      <td>Yes</td>\n",
       "      <td>Travel_Rarely</td>\n",
       "      <td>1102</td>\n",
       "      <td>Sales</td>\n",
       "      <td>1</td>\n",
       "      <td>2</td>\n",
       "      <td>Life Sciences</td>\n",
       "      <td>1</td>\n",
       "      <td>...</td>\n",
       "      <td>1</td>\n",
       "      <td>80</td>\n",
       "      <td>0</td>\n",
       "      <td>8</td>\n",
       "      <td>0</td>\n",
       "      <td>1</td>\n",
       "      <td>6</td>\n",
       "      <td>4</td>\n",
       "      <td>0</td>\n",
       "      <td>5</td>\n",
       "    </tr>\n",
       "    <tr>\n",
       "      <th>1</th>\n",
       "      <td>2</td>\n",
       "      <td>49</td>\n",
       "      <td>No</td>\n",
       "      <td>Travel_Frequently</td>\n",
       "      <td>279</td>\n",
       "      <td>Research &amp; Development</td>\n",
       "      <td>8</td>\n",
       "      <td>1</td>\n",
       "      <td>Life Sciences</td>\n",
       "      <td>1</td>\n",
       "      <td>...</td>\n",
       "      <td>4</td>\n",
       "      <td>80</td>\n",
       "      <td>1</td>\n",
       "      <td>10</td>\n",
       "      <td>3</td>\n",
       "      <td>3</td>\n",
       "      <td>10</td>\n",
       "      <td>7</td>\n",
       "      <td>1</td>\n",
       "      <td>7</td>\n",
       "    </tr>\n",
       "    <tr>\n",
       "      <th>2</th>\n",
       "      <td>3</td>\n",
       "      <td>37</td>\n",
       "      <td>Yes</td>\n",
       "      <td>Travel_Rarely</td>\n",
       "      <td>1373</td>\n",
       "      <td>Research &amp; Development</td>\n",
       "      <td>2</td>\n",
       "      <td>2</td>\n",
       "      <td>Other</td>\n",
       "      <td>1</td>\n",
       "      <td>...</td>\n",
       "      <td>2</td>\n",
       "      <td>80</td>\n",
       "      <td>0</td>\n",
       "      <td>7</td>\n",
       "      <td>3</td>\n",
       "      <td>3</td>\n",
       "      <td>0</td>\n",
       "      <td>0</td>\n",
       "      <td>0</td>\n",
       "      <td>0</td>\n",
       "    </tr>\n",
       "    <tr>\n",
       "      <th>3</th>\n",
       "      <td>4</td>\n",
       "      <td>33</td>\n",
       "      <td>No</td>\n",
       "      <td>Travel_Frequently</td>\n",
       "      <td>1392</td>\n",
       "      <td>Research &amp; Development</td>\n",
       "      <td>3</td>\n",
       "      <td>4</td>\n",
       "      <td>Life Sciences</td>\n",
       "      <td>1</td>\n",
       "      <td>...</td>\n",
       "      <td>3</td>\n",
       "      <td>80</td>\n",
       "      <td>0</td>\n",
       "      <td>8</td>\n",
       "      <td>3</td>\n",
       "      <td>3</td>\n",
       "      <td>8</td>\n",
       "      <td>7</td>\n",
       "      <td>3</td>\n",
       "      <td>0</td>\n",
       "    </tr>\n",
       "    <tr>\n",
       "      <th>4</th>\n",
       "      <td>5</td>\n",
       "      <td>27</td>\n",
       "      <td>No</td>\n",
       "      <td>Travel_Rarely</td>\n",
       "      <td>591</td>\n",
       "      <td>Research &amp; Development</td>\n",
       "      <td>2</td>\n",
       "      <td>1</td>\n",
       "      <td>Medical</td>\n",
       "      <td>1</td>\n",
       "      <td>...</td>\n",
       "      <td>4</td>\n",
       "      <td>80</td>\n",
       "      <td>1</td>\n",
       "      <td>6</td>\n",
       "      <td>3</td>\n",
       "      <td>3</td>\n",
       "      <td>2</td>\n",
       "      <td>2</td>\n",
       "      <td>2</td>\n",
       "      <td>2</td>\n",
       "    </tr>\n",
       "  </tbody>\n",
       "</table>\n",
       "<p>5 rows × 36 columns</p>\n",
       "</div>"
      ],
      "text/plain": [
       "   id  Age Attrition     BusinessTravel  DailyRate              Department  \\\n",
       "0   1   41       Yes      Travel_Rarely       1102                   Sales   \n",
       "1   2   49        No  Travel_Frequently        279  Research & Development   \n",
       "2   3   37       Yes      Travel_Rarely       1373  Research & Development   \n",
       "3   4   33        No  Travel_Frequently       1392  Research & Development   \n",
       "4   5   27        No      Travel_Rarely        591  Research & Development   \n",
       "\n",
       "   DistanceFromHome  Education EducationField  EmployeeCount  ...  \\\n",
       "0                 1          2  Life Sciences              1  ...   \n",
       "1                 8          1  Life Sciences              1  ...   \n",
       "2                 2          2          Other              1  ...   \n",
       "3                 3          4  Life Sciences              1  ...   \n",
       "4                 2          1        Medical              1  ...   \n",
       "\n",
       "   RelationshipSatisfaction  StandardHours StockOptionLevel  \\\n",
       "0                         1             80                0   \n",
       "1                         4             80                1   \n",
       "2                         2             80                0   \n",
       "3                         3             80                0   \n",
       "4                         4             80                1   \n",
       "\n",
       "   TotalWorkingYears  TrainingTimesLastYear  WorkLifeBalance YearsAtCompany  \\\n",
       "0                  8                      0                1              6   \n",
       "1                 10                      3                3             10   \n",
       "2                  7                      3                3              0   \n",
       "3                  8                      3                3              8   \n",
       "4                  6                      3                3              2   \n",
       "\n",
       "   YearsInCurrentRole YearsSinceLastPromotion  YearsWithCurrManager  \n",
       "0                   4                       0                     5  \n",
       "1                   7                       1                     7  \n",
       "2                   0                       0                     0  \n",
       "3                   7                       3                     0  \n",
       "4                   2                       2                     2  \n",
       "\n",
       "[5 rows x 36 columns]"
      ]
     },
     "execution_count": 8,
     "metadata": {},
     "output_type": "execute_result"
    }
   ],
   "source": [
    "# View first 5 rows in the dataset\n",
    "df.head()"
   ]
  },
  {
   "cell_type": "markdown",
   "id": "5b844656-31aa-43a1-92e9-34258e6407b2",
   "metadata": {},
   "source": [
    "### Assessing the Dataset"
   ]
  },
  {
   "cell_type": "code",
   "execution_count": 9,
   "id": "d3160cfe-2d12-44b0-b27d-1e9bce961202",
   "metadata": {},
   "outputs": [
    {
     "data": {
      "text/plain": [
       "(1470, 36)"
      ]
     },
     "execution_count": 9,
     "metadata": {},
     "output_type": "execute_result"
    }
   ],
   "source": [
    "# The number of rows and columns of the dataset\n",
    "df.shape"
   ]
  },
  {
   "cell_type": "markdown",
   "id": "9d72bfc3-6524-4da2-9d31-95622ad1e6ae",
   "metadata": {},
   "source": [
    "There are 1470 rows, 36 columns in the dataset."
   ]
  },
  {
   "cell_type": "code",
   "execution_count": 10,
   "id": "eaba62e8-958f-4ba8-9394-79be5edc6258",
   "metadata": {},
   "outputs": [
    {
     "name": "stdout",
     "output_type": "stream",
     "text": [
      "<class 'pandas.core.frame.DataFrame'>\n",
      "RangeIndex: 1470 entries, 0 to 1469\n",
      "Data columns (total 36 columns):\n",
      " #   Column                    Non-Null Count  Dtype \n",
      "---  ------                    --------------  ----- \n",
      " 0   id                        1470 non-null   int64 \n",
      " 1   Age                       1470 non-null   int64 \n",
      " 2   Attrition                 1470 non-null   object\n",
      " 3   BusinessTravel            1470 non-null   object\n",
      " 4   DailyRate                 1470 non-null   int64 \n",
      " 5   Department                1470 non-null   object\n",
      " 6   DistanceFromHome          1470 non-null   int64 \n",
      " 7   Education                 1470 non-null   int64 \n",
      " 8   EducationField            1470 non-null   object\n",
      " 9   EmployeeCount             1470 non-null   int64 \n",
      " 10  EmployeeNumber            1470 non-null   int64 \n",
      " 11  EnvironmentSatisfaction   1470 non-null   int64 \n",
      " 12  Gender                    1470 non-null   object\n",
      " 13  HourlyRate                1470 non-null   int64 \n",
      " 14  JobInvolvement            1470 non-null   int64 \n",
      " 15  JobLevel                  1470 non-null   int64 \n",
      " 16  JobRole                   1470 non-null   object\n",
      " 17  JobSatisfaction           1470 non-null   int64 \n",
      " 18  MaritalStatus             1470 non-null   object\n",
      " 19  MonthlyIncome             1470 non-null   int64 \n",
      " 20  MonthlyRate               1470 non-null   int64 \n",
      " 21  NumCompaniesWorked        1470 non-null   int64 \n",
      " 22  Over18                    1470 non-null   object\n",
      " 23  OverTime                  1470 non-null   object\n",
      " 24  PercentSalaryHike         1470 non-null   int64 \n",
      " 25  PerformanceRating         1470 non-null   int64 \n",
      " 26  RelationshipSatisfaction  1470 non-null   int64 \n",
      " 27  StandardHours             1470 non-null   int64 \n",
      " 28  StockOptionLevel          1470 non-null   int64 \n",
      " 29  TotalWorkingYears         1470 non-null   int64 \n",
      " 30  TrainingTimesLastYear     1470 non-null   int64 \n",
      " 31  WorkLifeBalance           1470 non-null   int64 \n",
      " 32  YearsAtCompany            1470 non-null   int64 \n",
      " 33  YearsInCurrentRole        1470 non-null   int64 \n",
      " 34  YearsSinceLastPromotion   1470 non-null   int64 \n",
      " 35  YearsWithCurrManager      1470 non-null   int64 \n",
      "dtypes: int64(27), object(9)\n",
      "memory usage: 413.6+ KB\n"
     ]
    }
   ],
   "source": [
    "# Basic information about the dataset\n",
    "df.info()"
   ]
  },
  {
   "cell_type": "markdown",
   "id": "d2afd2a1-0f56-408d-b548-b7f680ef4e93",
   "metadata": {},
   "source": [
    "**From the information above, we can see the following:**\n",
    "\n",
    "- There are no missing values in the dataset.\n",
    "- There are only integers and string(object) datatypes.\n",
    "- The column names will have to be formatted to conform with snake case"
   ]
  },
  {
   "cell_type": "code",
   "execution_count": 11,
   "id": "42f131a9-58de-490e-8d15-850e06f20780",
   "metadata": {},
   "outputs": [
    {
     "data": {
      "text/plain": [
       "0"
      ]
     },
     "execution_count": 11,
     "metadata": {},
     "output_type": "execute_result"
    }
   ],
   "source": [
    "# Are there duplicates in the dataset?\n",
    "sum(df.duplicated())"
   ]
  },
  {
   "cell_type": "markdown",
   "id": "923223fd-a156-46a2-b596-a047b5749b4e",
   "metadata": {},
   "source": [
    "From the above cell, it is noticed that there are no duplicates in the datasets."
   ]
  },
  {
   "cell_type": "code",
   "execution_count": 12,
   "id": "87116df0-8d7e-48c0-ab40-a68cc30e4d0c",
   "metadata": {},
   "outputs": [
    {
     "data": {
      "text/plain": [
       "id                          1470\n",
       "Age                           43\n",
       "Attrition                      2\n",
       "BusinessTravel                 3\n",
       "DailyRate                    886\n",
       "Department                     3\n",
       "DistanceFromHome              29\n",
       "Education                      5\n",
       "EducationField                 6\n",
       "EmployeeCount                  1\n",
       "EmployeeNumber              1470\n",
       "EnvironmentSatisfaction        4\n",
       "Gender                         2\n",
       "HourlyRate                    71\n",
       "JobInvolvement                 4\n",
       "JobLevel                       5\n",
       "JobRole                        9\n",
       "JobSatisfaction                4\n",
       "MaritalStatus                  3\n",
       "MonthlyIncome               1349\n",
       "MonthlyRate                 1427\n",
       "NumCompaniesWorked            10\n",
       "Over18                         1\n",
       "OverTime                       2\n",
       "PercentSalaryHike             15\n",
       "PerformanceRating              2\n",
       "RelationshipSatisfaction       4\n",
       "StandardHours                  1\n",
       "StockOptionLevel               4\n",
       "TotalWorkingYears             40\n",
       "TrainingTimesLastYear          7\n",
       "WorkLifeBalance                4\n",
       "YearsAtCompany                37\n",
       "YearsInCurrentRole            19\n",
       "YearsSinceLastPromotion       16\n",
       "YearsWithCurrManager          18\n",
       "dtype: int64"
      ]
     },
     "execution_count": 12,
     "metadata": {},
     "output_type": "execute_result"
    }
   ],
   "source": [
    "# Unique values in the dataset\n",
    "df.nunique()"
   ]
  },
  {
   "cell_type": "markdown",
   "id": "17e1099d-7954-4a0e-b737-7eccbea1951e",
   "metadata": {},
   "source": [
    "We can confirm that there are not duplicate in the main columns that doesn't need duplicates, the **`id`** column and the **`EmployeeNumber`** column."
   ]
  },
  {
   "cell_type": "code",
   "execution_count": 13,
   "id": "6af3820e-bbd1-475c-94c9-e852e980dedc",
   "metadata": {},
   "outputs": [
    {
     "data": {
      "text/plain": [
       "id                          0\n",
       "Age                         0\n",
       "Attrition                   0\n",
       "BusinessTravel              0\n",
       "DailyRate                   0\n",
       "Department                  0\n",
       "DistanceFromHome            0\n",
       "Education                   0\n",
       "EducationField              0\n",
       "EmployeeCount               0\n",
       "EmployeeNumber              0\n",
       "EnvironmentSatisfaction     0\n",
       "Gender                      0\n",
       "HourlyRate                  0\n",
       "JobInvolvement              0\n",
       "JobLevel                    0\n",
       "JobRole                     0\n",
       "JobSatisfaction             0\n",
       "MaritalStatus               0\n",
       "MonthlyIncome               0\n",
       "MonthlyRate                 0\n",
       "NumCompaniesWorked          0\n",
       "Over18                      0\n",
       "OverTime                    0\n",
       "PercentSalaryHike           0\n",
       "PerformanceRating           0\n",
       "RelationshipSatisfaction    0\n",
       "StandardHours               0\n",
       "StockOptionLevel            0\n",
       "TotalWorkingYears           0\n",
       "TrainingTimesLastYear       0\n",
       "WorkLifeBalance             0\n",
       "YearsAtCompany              0\n",
       "YearsInCurrentRole          0\n",
       "YearsSinceLastPromotion     0\n",
       "YearsWithCurrManager        0\n",
       "dtype: int64"
      ]
     },
     "execution_count": 13,
     "metadata": {},
     "output_type": "execute_result"
    }
   ],
   "source": [
    "# Confirming number of empty rows in the dataset is zero\n",
    "df.isna().sum()"
   ]
  },
  {
   "cell_type": "markdown",
   "id": "59781fa7-29ac-44ff-89b4-022951f0a909",
   "metadata": {},
   "source": [
    "There are no empty rows in the dataset."
   ]
  },
  {
   "cell_type": "code",
   "execution_count": 14,
   "id": "01a7d32e-5c20-488e-bbd4-bb6b283736d4",
   "metadata": {},
   "outputs": [
    {
     "data": {
      "text/plain": [
       "id                           int64\n",
       "Age                          int64\n",
       "Attrition                   object\n",
       "BusinessTravel              object\n",
       "DailyRate                    int64\n",
       "Department                  object\n",
       "DistanceFromHome             int64\n",
       "Education                    int64\n",
       "EducationField              object\n",
       "EmployeeCount                int64\n",
       "EmployeeNumber               int64\n",
       "EnvironmentSatisfaction      int64\n",
       "Gender                      object\n",
       "HourlyRate                   int64\n",
       "JobInvolvement               int64\n",
       "JobLevel                     int64\n",
       "JobRole                     object\n",
       "JobSatisfaction              int64\n",
       "MaritalStatus               object\n",
       "MonthlyIncome                int64\n",
       "MonthlyRate                  int64\n",
       "NumCompaniesWorked           int64\n",
       "Over18                      object\n",
       "OverTime                    object\n",
       "PercentSalaryHike            int64\n",
       "PerformanceRating            int64\n",
       "RelationshipSatisfaction     int64\n",
       "StandardHours                int64\n",
       "StockOptionLevel             int64\n",
       "TotalWorkingYears            int64\n",
       "TrainingTimesLastYear        int64\n",
       "WorkLifeBalance              int64\n",
       "YearsAtCompany               int64\n",
       "YearsInCurrentRole           int64\n",
       "YearsSinceLastPromotion      int64\n",
       "YearsWithCurrManager         int64\n",
       "dtype: object"
      ]
     },
     "execution_count": 14,
     "metadata": {},
     "output_type": "execute_result"
    }
   ],
   "source": [
    "# Checking the datatypes of the columns\n",
    "df.dtypes"
   ]
  },
  {
   "cell_type": "code",
   "execution_count": 15,
   "id": "dee3d4fe-38ef-4993-99d9-911016f44c4b",
   "metadata": {},
   "outputs": [
    {
     "data": {
      "text/html": [
       "<div>\n",
       "<style scoped>\n",
       "    .dataframe tbody tr th:only-of-type {\n",
       "        vertical-align: middle;\n",
       "    }\n",
       "\n",
       "    .dataframe tbody tr th {\n",
       "        vertical-align: top;\n",
       "    }\n",
       "\n",
       "    .dataframe thead th {\n",
       "        text-align: right;\n",
       "    }\n",
       "</style>\n",
       "<table border=\"1\" class=\"dataframe\">\n",
       "  <thead>\n",
       "    <tr style=\"text-align: right;\">\n",
       "      <th></th>\n",
       "      <th>id</th>\n",
       "      <th>Age</th>\n",
       "      <th>DailyRate</th>\n",
       "      <th>DistanceFromHome</th>\n",
       "      <th>Education</th>\n",
       "      <th>EmployeeCount</th>\n",
       "      <th>EmployeeNumber</th>\n",
       "      <th>EnvironmentSatisfaction</th>\n",
       "      <th>HourlyRate</th>\n",
       "      <th>JobInvolvement</th>\n",
       "      <th>...</th>\n",
       "      <th>RelationshipSatisfaction</th>\n",
       "      <th>StandardHours</th>\n",
       "      <th>StockOptionLevel</th>\n",
       "      <th>TotalWorkingYears</th>\n",
       "      <th>TrainingTimesLastYear</th>\n",
       "      <th>WorkLifeBalance</th>\n",
       "      <th>YearsAtCompany</th>\n",
       "      <th>YearsInCurrentRole</th>\n",
       "      <th>YearsSinceLastPromotion</th>\n",
       "      <th>YearsWithCurrManager</th>\n",
       "    </tr>\n",
       "  </thead>\n",
       "  <tbody>\n",
       "    <tr>\n",
       "      <th>count</th>\n",
       "      <td>1470.000000</td>\n",
       "      <td>1470.000000</td>\n",
       "      <td>1470.000000</td>\n",
       "      <td>1470.000000</td>\n",
       "      <td>1470.000000</td>\n",
       "      <td>1470.0</td>\n",
       "      <td>1470.000000</td>\n",
       "      <td>1470.000000</td>\n",
       "      <td>1470.000000</td>\n",
       "      <td>1470.000000</td>\n",
       "      <td>...</td>\n",
       "      <td>1470.000000</td>\n",
       "      <td>1470.0</td>\n",
       "      <td>1470.000000</td>\n",
       "      <td>1470.000000</td>\n",
       "      <td>1470.000000</td>\n",
       "      <td>1470.000000</td>\n",
       "      <td>1470.000000</td>\n",
       "      <td>1470.000000</td>\n",
       "      <td>1470.000000</td>\n",
       "      <td>1470.000000</td>\n",
       "    </tr>\n",
       "    <tr>\n",
       "      <th>mean</th>\n",
       "      <td>735.500000</td>\n",
       "      <td>36.923810</td>\n",
       "      <td>802.485714</td>\n",
       "      <td>9.192517</td>\n",
       "      <td>2.912925</td>\n",
       "      <td>1.0</td>\n",
       "      <td>1024.865306</td>\n",
       "      <td>2.721769</td>\n",
       "      <td>65.891156</td>\n",
       "      <td>2.729932</td>\n",
       "      <td>...</td>\n",
       "      <td>2.712245</td>\n",
       "      <td>80.0</td>\n",
       "      <td>0.793878</td>\n",
       "      <td>11.279592</td>\n",
       "      <td>2.799320</td>\n",
       "      <td>2.761224</td>\n",
       "      <td>7.008163</td>\n",
       "      <td>4.229252</td>\n",
       "      <td>2.187755</td>\n",
       "      <td>4.123129</td>\n",
       "    </tr>\n",
       "    <tr>\n",
       "      <th>std</th>\n",
       "      <td>424.496761</td>\n",
       "      <td>9.135373</td>\n",
       "      <td>403.509100</td>\n",
       "      <td>8.106864</td>\n",
       "      <td>1.024165</td>\n",
       "      <td>0.0</td>\n",
       "      <td>602.024335</td>\n",
       "      <td>1.093082</td>\n",
       "      <td>20.329428</td>\n",
       "      <td>0.711561</td>\n",
       "      <td>...</td>\n",
       "      <td>1.081209</td>\n",
       "      <td>0.0</td>\n",
       "      <td>0.852077</td>\n",
       "      <td>7.780782</td>\n",
       "      <td>1.289271</td>\n",
       "      <td>0.706476</td>\n",
       "      <td>6.126525</td>\n",
       "      <td>3.623137</td>\n",
       "      <td>3.222430</td>\n",
       "      <td>3.568136</td>\n",
       "    </tr>\n",
       "    <tr>\n",
       "      <th>min</th>\n",
       "      <td>1.000000</td>\n",
       "      <td>18.000000</td>\n",
       "      <td>102.000000</td>\n",
       "      <td>1.000000</td>\n",
       "      <td>1.000000</td>\n",
       "      <td>1.0</td>\n",
       "      <td>1.000000</td>\n",
       "      <td>1.000000</td>\n",
       "      <td>30.000000</td>\n",
       "      <td>1.000000</td>\n",
       "      <td>...</td>\n",
       "      <td>1.000000</td>\n",
       "      <td>80.0</td>\n",
       "      <td>0.000000</td>\n",
       "      <td>0.000000</td>\n",
       "      <td>0.000000</td>\n",
       "      <td>1.000000</td>\n",
       "      <td>0.000000</td>\n",
       "      <td>0.000000</td>\n",
       "      <td>0.000000</td>\n",
       "      <td>0.000000</td>\n",
       "    </tr>\n",
       "    <tr>\n",
       "      <th>25%</th>\n",
       "      <td>368.250000</td>\n",
       "      <td>30.000000</td>\n",
       "      <td>465.000000</td>\n",
       "      <td>2.000000</td>\n",
       "      <td>2.000000</td>\n",
       "      <td>1.0</td>\n",
       "      <td>491.250000</td>\n",
       "      <td>2.000000</td>\n",
       "      <td>48.000000</td>\n",
       "      <td>2.000000</td>\n",
       "      <td>...</td>\n",
       "      <td>2.000000</td>\n",
       "      <td>80.0</td>\n",
       "      <td>0.000000</td>\n",
       "      <td>6.000000</td>\n",
       "      <td>2.000000</td>\n",
       "      <td>2.000000</td>\n",
       "      <td>3.000000</td>\n",
       "      <td>2.000000</td>\n",
       "      <td>0.000000</td>\n",
       "      <td>2.000000</td>\n",
       "    </tr>\n",
       "    <tr>\n",
       "      <th>50%</th>\n",
       "      <td>735.500000</td>\n",
       "      <td>36.000000</td>\n",
       "      <td>802.000000</td>\n",
       "      <td>7.000000</td>\n",
       "      <td>3.000000</td>\n",
       "      <td>1.0</td>\n",
       "      <td>1020.500000</td>\n",
       "      <td>3.000000</td>\n",
       "      <td>66.000000</td>\n",
       "      <td>3.000000</td>\n",
       "      <td>...</td>\n",
       "      <td>3.000000</td>\n",
       "      <td>80.0</td>\n",
       "      <td>1.000000</td>\n",
       "      <td>10.000000</td>\n",
       "      <td>3.000000</td>\n",
       "      <td>3.000000</td>\n",
       "      <td>5.000000</td>\n",
       "      <td>3.000000</td>\n",
       "      <td>1.000000</td>\n",
       "      <td>3.000000</td>\n",
       "    </tr>\n",
       "    <tr>\n",
       "      <th>75%</th>\n",
       "      <td>1102.750000</td>\n",
       "      <td>43.000000</td>\n",
       "      <td>1157.000000</td>\n",
       "      <td>14.000000</td>\n",
       "      <td>4.000000</td>\n",
       "      <td>1.0</td>\n",
       "      <td>1555.750000</td>\n",
       "      <td>4.000000</td>\n",
       "      <td>83.750000</td>\n",
       "      <td>3.000000</td>\n",
       "      <td>...</td>\n",
       "      <td>4.000000</td>\n",
       "      <td>80.0</td>\n",
       "      <td>1.000000</td>\n",
       "      <td>15.000000</td>\n",
       "      <td>3.000000</td>\n",
       "      <td>3.000000</td>\n",
       "      <td>9.000000</td>\n",
       "      <td>7.000000</td>\n",
       "      <td>3.000000</td>\n",
       "      <td>7.000000</td>\n",
       "    </tr>\n",
       "    <tr>\n",
       "      <th>max</th>\n",
       "      <td>1470.000000</td>\n",
       "      <td>60.000000</td>\n",
       "      <td>1499.000000</td>\n",
       "      <td>29.000000</td>\n",
       "      <td>5.000000</td>\n",
       "      <td>1.0</td>\n",
       "      <td>2068.000000</td>\n",
       "      <td>4.000000</td>\n",
       "      <td>100.000000</td>\n",
       "      <td>4.000000</td>\n",
       "      <td>...</td>\n",
       "      <td>4.000000</td>\n",
       "      <td>80.0</td>\n",
       "      <td>3.000000</td>\n",
       "      <td>40.000000</td>\n",
       "      <td>6.000000</td>\n",
       "      <td>4.000000</td>\n",
       "      <td>40.000000</td>\n",
       "      <td>18.000000</td>\n",
       "      <td>15.000000</td>\n",
       "      <td>17.000000</td>\n",
       "    </tr>\n",
       "  </tbody>\n",
       "</table>\n",
       "<p>8 rows × 27 columns</p>\n",
       "</div>"
      ],
      "text/plain": [
       "                id          Age    DailyRate  DistanceFromHome    Education  \\\n",
       "count  1470.000000  1470.000000  1470.000000       1470.000000  1470.000000   \n",
       "mean    735.500000    36.923810   802.485714          9.192517     2.912925   \n",
       "std     424.496761     9.135373   403.509100          8.106864     1.024165   \n",
       "min       1.000000    18.000000   102.000000          1.000000     1.000000   \n",
       "25%     368.250000    30.000000   465.000000          2.000000     2.000000   \n",
       "50%     735.500000    36.000000   802.000000          7.000000     3.000000   \n",
       "75%    1102.750000    43.000000  1157.000000         14.000000     4.000000   \n",
       "max    1470.000000    60.000000  1499.000000         29.000000     5.000000   \n",
       "\n",
       "       EmployeeCount  EmployeeNumber  EnvironmentSatisfaction   HourlyRate  \\\n",
       "count         1470.0     1470.000000              1470.000000  1470.000000   \n",
       "mean             1.0     1024.865306                 2.721769    65.891156   \n",
       "std              0.0      602.024335                 1.093082    20.329428   \n",
       "min              1.0        1.000000                 1.000000    30.000000   \n",
       "25%              1.0      491.250000                 2.000000    48.000000   \n",
       "50%              1.0     1020.500000                 3.000000    66.000000   \n",
       "75%              1.0     1555.750000                 4.000000    83.750000   \n",
       "max              1.0     2068.000000                 4.000000   100.000000   \n",
       "\n",
       "       JobInvolvement  ...  RelationshipSatisfaction  StandardHours  \\\n",
       "count     1470.000000  ...               1470.000000         1470.0   \n",
       "mean         2.729932  ...                  2.712245           80.0   \n",
       "std          0.711561  ...                  1.081209            0.0   \n",
       "min          1.000000  ...                  1.000000           80.0   \n",
       "25%          2.000000  ...                  2.000000           80.0   \n",
       "50%          3.000000  ...                  3.000000           80.0   \n",
       "75%          3.000000  ...                  4.000000           80.0   \n",
       "max          4.000000  ...                  4.000000           80.0   \n",
       "\n",
       "       StockOptionLevel  TotalWorkingYears  TrainingTimesLastYear  \\\n",
       "count       1470.000000        1470.000000            1470.000000   \n",
       "mean           0.793878          11.279592               2.799320   \n",
       "std            0.852077           7.780782               1.289271   \n",
       "min            0.000000           0.000000               0.000000   \n",
       "25%            0.000000           6.000000               2.000000   \n",
       "50%            1.000000          10.000000               3.000000   \n",
       "75%            1.000000          15.000000               3.000000   \n",
       "max            3.000000          40.000000               6.000000   \n",
       "\n",
       "       WorkLifeBalance  YearsAtCompany  YearsInCurrentRole  \\\n",
       "count      1470.000000     1470.000000         1470.000000   \n",
       "mean          2.761224        7.008163            4.229252   \n",
       "std           0.706476        6.126525            3.623137   \n",
       "min           1.000000        0.000000            0.000000   \n",
       "25%           2.000000        3.000000            2.000000   \n",
       "50%           3.000000        5.000000            3.000000   \n",
       "75%           3.000000        9.000000            7.000000   \n",
       "max           4.000000       40.000000           18.000000   \n",
       "\n",
       "       YearsSinceLastPromotion  YearsWithCurrManager  \n",
       "count              1470.000000           1470.000000  \n",
       "mean                  2.187755              4.123129  \n",
       "std                   3.222430              3.568136  \n",
       "min                   0.000000              0.000000  \n",
       "25%                   0.000000              2.000000  \n",
       "50%                   1.000000              3.000000  \n",
       "75%                   3.000000              7.000000  \n",
       "max                  15.000000             17.000000  \n",
       "\n",
       "[8 rows x 27 columns]"
      ]
     },
     "execution_count": 15,
     "metadata": {},
     "output_type": "execute_result"
    }
   ],
   "source": [
    "# Checking the summary statistics\n",
    "df.describe()"
   ]
  },
  {
   "cell_type": "markdown",
   "id": "b7a07304-f34c-4d09-b3df-4828c588b80f",
   "metadata": {},
   "source": [
    "#### Assesing the `Age` Column.\n",
    "\n",
    "This column tells the age of the employees in the database. "
   ]
  },
  {
   "cell_type": "code",
   "execution_count": 16,
   "id": "6b51b6fa-a087-4d3c-a953-446c6c76813c",
   "metadata": {},
   "outputs": [
    {
     "data": {
      "text/plain": [
       "963     38\n",
       "1315    36\n",
       "1134    35\n",
       "453     26\n",
       "523     50\n",
       "Name: Age, dtype: int64"
      ]
     },
     "execution_count": 16,
     "metadata": {},
     "output_type": "execute_result"
    }
   ],
   "source": [
    "# A sample of the age column\n",
    "df.Age.sample(5)"
   ]
  },
  {
   "cell_type": "markdown",
   "id": "094cd39a-b707-4c94-86ab-bb9732da5fcc",
   "metadata": {},
   "source": [
    "From the above cells, \n",
    "- The datatype of the age column is integer.\n",
    "- There are no missing rows.\n",
    "- The minimum and maximum age of 18 and 60 corresponds with working class age.\n",
    "\n",
    "**Nothing is to be done to clean the `age` column except modify the column name to snake_case.**"
   ]
  },
  {
   "cell_type": "markdown",
   "id": "0ecf44dd-9412-417f-9a7f-1b261e772a93",
   "metadata": {},
   "source": [
    "#### Assesing the `Attrition` Column.\n",
    "\n",
    "The attrition column tells us whether an employee left the company of not. The reason an employee leaves the company is not taken into consideration."
   ]
  },
  {
   "cell_type": "code",
   "execution_count": 17,
   "id": "2bfadfd6-e9ac-41b8-8e43-1941544a4319",
   "metadata": {},
   "outputs": [
    {
     "data": {
      "text/plain": [
       "461      No\n",
       "1421     No\n",
       "365      No\n",
       "1425     No\n",
       "947     Yes\n",
       "Name: Attrition, dtype: object"
      ]
     },
     "execution_count": 17,
     "metadata": {},
     "output_type": "execute_result"
    }
   ],
   "source": [
    "# A sample of how the column looks like\n",
    "df.Attrition.sample(5)"
   ]
  },
  {
   "cell_type": "code",
   "execution_count": 18,
   "id": "20442e49-35dd-4c6a-bd97-4f7b5743ddd6",
   "metadata": {},
   "outputs": [
    {
     "data": {
      "text/plain": [
       "2"
      ]
     },
     "execution_count": 18,
     "metadata": {},
     "output_type": "execute_result"
    }
   ],
   "source": [
    "# Number of unique values in the column\n",
    "df.Attrition.nunique()"
   ]
  },
  {
   "cell_type": "markdown",
   "id": "84125049-9446-4ec4-994a-db4d37ac450d",
   "metadata": {},
   "source": [
    "There are two unique values in the column."
   ]
  },
  {
   "cell_type": "code",
   "execution_count": 19,
   "id": "ac3ea669-b408-4a4f-aa71-842203353deb",
   "metadata": {},
   "outputs": [
    {
     "data": {
      "text/plain": [
       "array(['Yes', 'No'], dtype=object)"
      ]
     },
     "execution_count": 19,
     "metadata": {},
     "output_type": "execute_result"
    }
   ],
   "source": [
    "# The unique values in the column\n",
    "df.Attrition.unique()"
   ]
  },
  {
   "cell_type": "markdown",
   "id": "ca5e9cc4-d1d4-4958-9da0-234a75b0315c",
   "metadata": {},
   "source": [
    "**There are only two values in the dataset;**\n",
    "- Yes _and_\n",
    "- No\n",
    "\n",
    "**This could be changed to boolean datatype values of**\n",
    "- True _and_\n",
    "- False"
   ]
  },
  {
   "cell_type": "markdown",
   "id": "697ead07-90ee-41ed-acc1-c5f90715cab7",
   "metadata": {
    "tags": []
   },
   "source": [
    "#### Assesing the `BusinessTravel` Column.\n",
    "\n",
    "This column gives an employee travel information for work purposes."
   ]
  },
  {
   "cell_type": "code",
   "execution_count": 20,
   "id": "8c62b9f9-ecc4-43f5-a87a-38456b2e928d",
   "metadata": {},
   "outputs": [
    {
     "name": "stdout",
     "output_type": "stream",
     "text": [
      "<class 'pandas.core.series.Series'>\n",
      "RangeIndex: 1470 entries, 0 to 1469\n",
      "Series name: BusinessTravel\n",
      "Non-Null Count  Dtype \n",
      "--------------  ----- \n",
      "1470 non-null   object\n",
      "dtypes: object(1)\n",
      "memory usage: 11.6+ KB\n"
     ]
    }
   ],
   "source": [
    "# The basic information about the column\n",
    "df.BusinessTravel.info()"
   ]
  },
  {
   "cell_type": "code",
   "execution_count": 21,
   "id": "2ac58e12-5571-496f-aeaa-29301c0c39fd",
   "metadata": {},
   "outputs": [
    {
     "data": {
      "text/plain": [
       "1080        Travel_Rarely\n",
       "1156        Travel_Rarely\n",
       "22          Travel_Rarely\n",
       "339         Travel_Rarely\n",
       "1012    Travel_Frequently\n",
       "Name: BusinessTravel, dtype: object"
      ]
     },
     "execution_count": 21,
     "metadata": {},
     "output_type": "execute_result"
    }
   ],
   "source": [
    "# A sample of the column\n",
    "df.BusinessTravel.sample(5)"
   ]
  },
  {
   "cell_type": "markdown",
   "id": "aaf8e9ea-4299-4db9-8ce4-7edf9b8cbd56",
   "metadata": {},
   "source": [
    "There are different values in the column, more investigation is needed to check the unique values"
   ]
  },
  {
   "cell_type": "code",
   "execution_count": 22,
   "id": "c28ed2f2-46fa-4836-9a9f-277d33bd05ff",
   "metadata": {},
   "outputs": [
    {
     "data": {
      "text/plain": [
       "3"
      ]
     },
     "execution_count": 22,
     "metadata": {},
     "output_type": "execute_result"
    }
   ],
   "source": [
    "# The number of unique values in the column\n",
    "df.BusinessTravel.nunique()"
   ]
  },
  {
   "cell_type": "markdown",
   "id": "0c897208-41d2-49d3-9608-95afc55ec956",
   "metadata": {},
   "source": [
    "There are three unique values in the column."
   ]
  },
  {
   "cell_type": "code",
   "execution_count": 23,
   "id": "8c5fb02f-3993-48a9-b508-2eb00501235c",
   "metadata": {},
   "outputs": [
    {
     "data": {
      "text/plain": [
       "array(['Travel_Rarely', 'Travel_Frequently', 'Non-Travel'], dtype=object)"
      ]
     },
     "execution_count": 23,
     "metadata": {},
     "output_type": "execute_result"
    }
   ],
   "source": [
    "# Getting the uniqe values\n",
    "df.BusinessTravel.unique()"
   ]
  },
  {
   "cell_type": "markdown",
   "id": "36bc8f49-b0b7-4ece-a5cf-fb334eba7b3f",
   "metadata": {},
   "source": [
    "The three unique values in the column are\n",
    "- Travel_Rarely\n",
    "- Travel_Frequently\n",
    "- Non-Travel\n",
    "\n",
    "**The only cleaning this column need is to modify the column name to snake_case format**"
   ]
  },
  {
   "cell_type": "markdown",
   "id": "aa90e307-5464-4f53-b8e1-68b9f3a0986a",
   "metadata": {},
   "source": [
    "#### Assesing the `DailyRate` Column.\n",
    "\n",
    "This column will need more investigation to know what it is about."
   ]
  },
  {
   "cell_type": "code",
   "execution_count": 24,
   "id": "d58d54db-5c4e-4bc9-8f7b-d8eb84eadec1",
   "metadata": {},
   "outputs": [
    {
     "name": "stdout",
     "output_type": "stream",
     "text": [
      "<class 'pandas.core.series.Series'>\n",
      "RangeIndex: 1470 entries, 0 to 1469\n",
      "Series name: DailyRate\n",
      "Non-Null Count  Dtype\n",
      "--------------  -----\n",
      "1470 non-null   int64\n",
      "dtypes: int64(1)\n",
      "memory usage: 11.6 KB\n"
     ]
    }
   ],
   "source": [
    "# Basic information about the column\n",
    "df.DailyRate.info()"
   ]
  },
  {
   "cell_type": "code",
   "execution_count": 25,
   "id": "3c4633d3-9e33-42f2-88db-62eeee6fa54f",
   "metadata": {},
   "outputs": [
    {
     "data": {
      "text/plain": [
       "1035    1398\n",
       "315      185\n",
       "526      408\n",
       "972     1124\n",
       "877      150\n",
       "Name: DailyRate, dtype: int64"
      ]
     },
     "execution_count": 25,
     "metadata": {},
     "output_type": "execute_result"
    }
   ],
   "source": [
    "# A sample of how the column looks like\n",
    "df.DailyRate.sample(5)"
   ]
  },
  {
   "cell_type": "code",
   "execution_count": 26,
   "id": "83fedd4f-e99c-4bbb-808e-aad362fc88df",
   "metadata": {},
   "outputs": [
    {
     "data": {
      "text/plain": [
       "count    1470.000000\n",
       "mean      802.485714\n",
       "std       403.509100\n",
       "min       102.000000\n",
       "25%       465.000000\n",
       "50%       802.000000\n",
       "75%      1157.000000\n",
       "max      1499.000000\n",
       "Name: DailyRate, dtype: float64"
      ]
     },
     "execution_count": 26,
     "metadata": {},
     "output_type": "execute_result"
    }
   ],
   "source": [
    "# Summary statistics of th3 'DailyRate' column\n",
    "df.DailyRate.describe()"
   ]
  },
  {
   "cell_type": "markdown",
   "id": "79167507-92d1-472f-b937-f8097a114876",
   "metadata": {},
   "source": [
    "**The DailyRate column is not detailed enough to know what the column is about, it might be dropped.\n",
    "The only cleaning is to convert the column name to snake_case format.**"
   ]
  },
  {
   "cell_type": "markdown",
   "id": "03c6be57-1fcf-467b-b359-5dc35b641ebf",
   "metadata": {},
   "source": [
    "#### Assesing the `Department` Column\n",
    "\n",
    "This column gives information on which department of the company the employee works"
   ]
  },
  {
   "cell_type": "code",
   "execution_count": 27,
   "id": "b415cf71-49e1-4293-82f6-ebaa72c4d5c3",
   "metadata": {},
   "outputs": [
    {
     "name": "stdout",
     "output_type": "stream",
     "text": [
      "<class 'pandas.core.series.Series'>\n",
      "RangeIndex: 1470 entries, 0 to 1469\n",
      "Series name: Department\n",
      "Non-Null Count  Dtype \n",
      "--------------  ----- \n",
      "1470 non-null   object\n",
      "dtypes: object(1)\n",
      "memory usage: 11.6+ KB\n"
     ]
    }
   ],
   "source": [
    "# Basic information about the column\n",
    "df.Department.info()"
   ]
  },
  {
   "cell_type": "code",
   "execution_count": 28,
   "id": "888c4eae-436b-4565-a556-bae2971bdcee",
   "metadata": {},
   "outputs": [
    {
     "data": {
      "text/plain": [
       "786     Research & Development\n",
       "1109                     Sales\n",
       "1448                     Sales\n",
       "314     Research & Development\n",
       "1453                     Sales\n",
       "Name: Department, dtype: object"
      ]
     },
     "execution_count": 28,
     "metadata": {},
     "output_type": "execute_result"
    }
   ],
   "source": [
    "# A sample of how the column looks like\n",
    "df.Department.sample(5)"
   ]
  },
  {
   "cell_type": "code",
   "execution_count": 29,
   "id": "de932693-eb4f-4bda-9faa-d502d39d3910",
   "metadata": {},
   "outputs": [
    {
     "data": {
      "text/plain": [
       "3"
      ]
     },
     "execution_count": 29,
     "metadata": {},
     "output_type": "execute_result"
    }
   ],
   "source": [
    "# The number of unique values in the column.\n",
    "df.Department.nunique()"
   ]
  },
  {
   "cell_type": "markdown",
   "id": "5288ff37-0302-4928-bc45-8fa9721d0a3b",
   "metadata": {},
   "source": [
    "here are three unique values in the column, the next cell will shed more info about the different departments."
   ]
  },
  {
   "cell_type": "code",
   "execution_count": 30,
   "id": "ca74dedd-bc31-4297-a249-f024a8002cf7",
   "metadata": {},
   "outputs": [
    {
     "data": {
      "text/plain": [
       "array(['Sales', 'Research & Development', 'Human Resources'], dtype=object)"
      ]
     },
     "execution_count": 30,
     "metadata": {},
     "output_type": "execute_result"
    }
   ],
   "source": [
    "# Unique values in the 'Department' column\n",
    "df.Department.unique()"
   ]
  },
  {
   "cell_type": "markdown",
   "id": "2e8186d0-e6ff-4bf9-8e36-770a00bedc45",
   "metadata": {},
   "source": [
    "There are three departments where employee works. They are\n",
    "- Sales\n",
    "- Research & Development\n",
    "- Human Resources.\n",
    "\n",
    "**No cleaning is required for this column.**"
   ]
  },
  {
   "cell_type": "markdown",
   "id": "3907e234-c23e-484b-a41c-32169b988d9a",
   "metadata": {},
   "source": [
    "#### Assesing the `DistanceFromHome` Column\n",
    "\n",
    "This column gives the distance the workplace is from an employee's home."
   ]
  },
  {
   "cell_type": "code",
   "execution_count": 31,
   "id": "d08907e5-852e-4997-9d5d-6aecf4cef8c0",
   "metadata": {},
   "outputs": [
    {
     "data": {
      "text/plain": [
       "0    1\n",
       "1    8\n",
       "2    2\n",
       "3    3\n",
       "4    2\n",
       "Name: DistanceFromHome, dtype: int64"
      ]
     },
     "execution_count": 31,
     "metadata": {},
     "output_type": "execute_result"
    }
   ],
   "source": [
    "# A sample of the column\n",
    "df.DistanceFromHome.head()"
   ]
  },
  {
   "cell_type": "markdown",
   "id": "d553b7a1-ebed-4495-8e0d-4bf0dd9274d3",
   "metadata": {},
   "source": [
    "The distance does not give the measurement unit, It might be miles, meters, kilometers etc."
   ]
  },
  {
   "cell_type": "code",
   "execution_count": 32,
   "id": "570fbf29-dd01-4875-9c22-4bda4af448ef",
   "metadata": {},
   "outputs": [
    {
     "data": {
      "text/plain": [
       "count    1470.000000\n",
       "mean        9.192517\n",
       "std         8.106864\n",
       "min         1.000000\n",
       "25%         2.000000\n",
       "50%         7.000000\n",
       "75%        14.000000\n",
       "max        29.000000\n",
       "Name: DistanceFromHome, dtype: float64"
      ]
     },
     "execution_count": 32,
     "metadata": {},
     "output_type": "execute_result"
    }
   ],
   "source": [
    "# Summary staticstic of the column\n",
    "df.DistanceFromHome.describe()"
   ]
  },
  {
   "cell_type": "markdown",
   "id": "c295eb77-c683-4d0d-a19d-f770c050543a",
   "metadata": {},
   "source": [
    "The max distance is 29, the median is 7. From intuition, we can exclude extreme measurement for the distance. This include miles and kilometeres. Meters will be used.\n",
    "\n",
    "Another factor for using metres is that the universally accepted unit for distance is meters."
   ]
  },
  {
   "cell_type": "markdown",
   "id": "ca0da99a-3327-4401-8501-c33eda08d658",
   "metadata": {},
   "source": [
    "#### Assesing the `Education` Column\n",
    "\n",
    "This column gives the level of education of an employee"
   ]
  },
  {
   "cell_type": "code",
   "execution_count": 33,
   "id": "cbae4b07-3f74-4728-bb37-59a75b26d57a",
   "metadata": {},
   "outputs": [
    {
     "data": {
      "text/plain": [
       "317    4\n",
       "681    3\n",
       "755    2\n",
       "631    4\n",
       "61     5\n",
       "Name: Education, dtype: int64"
      ]
     },
     "execution_count": 33,
     "metadata": {},
     "output_type": "execute_result"
    }
   ],
   "source": [
    "# A sample of the dataset\n",
    "df.Education.sample(5)"
   ]
  },
  {
   "cell_type": "markdown",
   "id": "ed957d2a-03a0-4ff9-92b3-011f63abe55d",
   "metadata": {},
   "source": [
    "The education column is in integers, and one of the supervisors provided us with the following on values of this column.\n",
    "- \"1\": \"Below College\"\n",
    "- \"2\": \"College\"\n",
    "- \"3\": \"Bachelor\"\n",
    "- \"4\": \"Master\"\n",
    "- \"5\": \"Doctor\"\n",
    "\n",
    "**From this, it can be said that there are 5 unique values in the dataset and apart from changing the format of the column name, it might be needed to change the values to more reflective or descriptive.**"
   ]
  },
  {
   "cell_type": "markdown",
   "id": "2a29555a-d553-42b1-8e51-949001cc744b",
   "metadata": {},
   "source": [
    "#### Assesing the `EducationField` Column\n",
    "\n",
    "This column gives information about the field of study of employees"
   ]
  },
  {
   "cell_type": "code",
   "execution_count": 34,
   "id": "6037ba7c-f7a2-4984-9736-f1fd366a714e",
   "metadata": {},
   "outputs": [
    {
     "data": {
      "text/plain": [
       "7      Life Sciences\n",
       "714          Medical\n",
       "261    Life Sciences\n",
       "67     Life Sciences\n",
       "507          Medical\n",
       "Name: EducationField, dtype: object"
      ]
     },
     "execution_count": 34,
     "metadata": {},
     "output_type": "execute_result"
    }
   ],
   "source": [
    "# A sample of the column. \n",
    "df.EducationField.sample(5)"
   ]
  },
  {
   "cell_type": "code",
   "execution_count": 35,
   "id": "66a65eaa-bf3e-48dd-b371-382ad896848d",
   "metadata": {},
   "outputs": [
    {
     "data": {
      "text/plain": [
       "6"
      ]
     },
     "execution_count": 35,
     "metadata": {},
     "output_type": "execute_result"
    }
   ],
   "source": [
    "# Number of unique values of the column.\n",
    "df.EducationField.nunique()"
   ]
  },
  {
   "cell_type": "markdown",
   "id": "1e785f38-1c2c-4271-94a3-49f42ac4676c",
   "metadata": {},
   "source": [
    "**There are 6 unique values in this column and there's no cleaning needed except to change the column name format.**"
   ]
  },
  {
   "cell_type": "markdown",
   "id": "f1965d92-17c8-462e-8a6c-34ffa10c7b2c",
   "metadata": {},
   "source": [
    "#### Assesing the `EmployeeCount` Column,"
   ]
  },
  {
   "cell_type": "code",
   "execution_count": 36,
   "id": "e2656e48-2c08-4235-878e-dc39ac598f37",
   "metadata": {},
   "outputs": [
    {
     "data": {
      "text/plain": [
       "1271    1\n",
       "789     1\n",
       "1239    1\n",
       "Name: EmployeeCount, dtype: int64"
      ]
     },
     "execution_count": 36,
     "metadata": {},
     "output_type": "execute_result"
    }
   ],
   "source": [
    "# A sample of the column.\n",
    "df.EmployeeCount.sample(3)"
   ]
  },
  {
   "cell_type": "code",
   "execution_count": 37,
   "id": "06cce77e-075c-48ea-ad0a-100ea56af0ee",
   "metadata": {},
   "outputs": [
    {
     "data": {
      "text/plain": [
       "count    1470.0\n",
       "mean        1.0\n",
       "std         0.0\n",
       "min         1.0\n",
       "25%         1.0\n",
       "50%         1.0\n",
       "75%         1.0\n",
       "max         1.0\n",
       "Name: EmployeeCount, dtype: float64"
      ]
     },
     "execution_count": 37,
     "metadata": {},
     "output_type": "execute_result"
    }
   ],
   "source": [
    "# Re checking the summary statistics of the column.\n",
    "df.EmployeeCount.describe()"
   ]
  },
  {
   "cell_type": "markdown",
   "id": "0f64ec82-4ac8-47ac-b3e7-dd341bb97437",
   "metadata": {},
   "source": [
    "**It seems the column is a count of the `id` in the dataset. This column is not needed, it will be dropped.**"
   ]
  },
  {
   "cell_type": "markdown",
   "id": "08ededab-351e-4ab3-8eee-8f90856eb334",
   "metadata": {},
   "source": [
    "#### Assesing the `EmployeeNumber` Column.\n",
    "\n",
    "**This is the unique number of an Employee. It is like an Id. This column does not need any analysis it will be dropped as the id column can be used in its place.**"
   ]
  },
  {
   "cell_type": "markdown",
   "id": "4214af0a-6263-4b26-9f10-45e1f3b5475e",
   "metadata": {},
   "source": [
    "#### Assesing the `EnvironmentalSatisfaction` Column.\n",
    "\n",
    "This column gives information about an employee's satisfaction with the environment. More information was given about this column.\n",
    "\n",
    "The education column is in integers, and one of the supervisors provided us with the following on values of this column.\n",
    "- \"1\": \"Low\"\n",
    "- \"2\": \"Medium\"\n",
    "- \"3\": \"High\"\n",
    "- \"4\": \"Very High\"\n",
    "\n",
    "**From this, it can be said that there are 4 unique values in the dataset and apart from changing the format of the column name, it might be needed to change the values to more reflective or descriptive.**\n",
    "\n",
    "Let's check the unique value in the dataset to make sure there's no need to clean anything apart from the above."
   ]
  },
  {
   "cell_type": "code",
   "execution_count": 38,
   "id": "93c69e35-6c07-4ac9-ad69-a6a26d47ec0d",
   "metadata": {},
   "outputs": [
    {
     "data": {
      "text/plain": [
       "array([2, 3, 4, 1], dtype=int64)"
      ]
     },
     "execution_count": 38,
     "metadata": {},
     "output_type": "execute_result"
    }
   ],
   "source": [
    "# Unique values in EnvironmentSatisfaction column\n",
    "df.EnvironmentSatisfaction.unique()"
   ]
  },
  {
   "cell_type": "markdown",
   "id": "ed7b6ed1-7454-450a-81c2-a4c1c4849ca6",
   "metadata": {},
   "source": [
    "There are only 4 unique values, so the cleaning required is the one stated above."
   ]
  },
  {
   "cell_type": "markdown",
   "id": "702fa41b-8680-42f4-ba7b-3e00ae03f458",
   "metadata": {},
   "source": [
    "#### Assesing the `Gender` Column.\n",
    "\n",
    "This column gives the gender of an employee. There should be only two columns in the dataset."
   ]
  },
  {
   "cell_type": "code",
   "execution_count": 39,
   "id": "f4b4d974-be00-4810-8edd-db0060b0416a",
   "metadata": {},
   "outputs": [
    {
     "data": {
      "text/plain": [
       "546       Male\n",
       "1454    Female\n",
       "659       Male\n",
       "Name: Gender, dtype: object"
      ]
     },
     "execution_count": 39,
     "metadata": {},
     "output_type": "execute_result"
    }
   ],
   "source": [
    "# A sample of the column\n",
    "df.Gender.sample(3)"
   ]
  },
  {
   "cell_type": "code",
   "execution_count": 40,
   "id": "4b299925-1d84-44c2-9736-30ca2193980f",
   "metadata": {},
   "outputs": [
    {
     "data": {
      "text/plain": [
       "2"
      ]
     },
     "execution_count": 40,
     "metadata": {},
     "output_type": "execute_result"
    }
   ],
   "source": [
    "# The number of unique values in the column\n",
    "df.Gender.nunique()"
   ]
  },
  {
   "cell_type": "markdown",
   "id": "6060a358-fba9-41f6-a6e2-51205db390d4",
   "metadata": {},
   "source": [
    "**There are two unique values, and this column does not need any cleaning except modifying its column name.**"
   ]
  },
  {
   "cell_type": "markdown",
   "id": "b73f9ee4-a4ef-41c0-bb29-79505aab0d64",
   "metadata": {},
   "source": [
    "#### Assesing the `HourlyRate` and `MonthlyRate` Columns.\n",
    "\n",
    "The column names beg the question: rate of what? They are not descriptive enough.\n",
    "\n",
    "The columns might be dropped."
   ]
  },
  {
   "cell_type": "markdown",
   "id": "90877c9e-cf43-475c-9e65-f415cabee2ef",
   "metadata": {},
   "source": [
    "#### Assesing the `JobInvolvement` Column.\n",
    "\n",
    "This column gives information about an employee's job involvement. More information was given about this column.\n",
    "\n",
    "This column is in integers, and one of the supervisors provided us with the following on values of this column.\n",
    "- \"1\": \"Low\"\n",
    "- \"2\": \"Medium\"\n",
    "- \"3\": \"High\"\n",
    "- \"4\": \"Very High\"\n",
    "\n",
    "**From this, it can be said that there are 4 unique values in the dataset and apart from changing the format of the column name, it might be needed to change the values to more reflective or descriptive.**\n",
    "\n",
    "Let's check the unique value in the dataset to make sure there's no need to clean anything apart from the above."
   ]
  },
  {
   "cell_type": "code",
   "execution_count": 41,
   "id": "dc067521-8c63-49b1-a406-44857531cc92",
   "metadata": {},
   "outputs": [
    {
     "data": {
      "text/plain": [
       "array([3, 2, 4, 1], dtype=int64)"
      ]
     },
     "execution_count": 41,
     "metadata": {},
     "output_type": "execute_result"
    }
   ],
   "source": [
    "# Unique values in JobInvolvement column\n",
    "df.JobInvolvement.unique()"
   ]
  },
  {
   "cell_type": "markdown",
   "id": "d003aa48-8fc0-4e55-93ae-c16d9d1740eb",
   "metadata": {},
   "source": [
    "The column has four unique numbers, therefore the only cleaning necessary is what is stated above."
   ]
  },
  {
   "cell_type": "markdown",
   "id": "df8af40e-0bc4-476f-aa1f-54188015cea9",
   "metadata": {},
   "source": [
    "#### Assesing the `JobLevel` Column.\n",
    "\n",
    "This column is about the level of heirarchy of an employee."
   ]
  },
  {
   "cell_type": "code",
   "execution_count": 42,
   "id": "cc8441d6-7a9c-4b2c-99e8-46a0d34dee2f",
   "metadata": {},
   "outputs": [
    {
     "data": {
      "text/plain": [
       "513    1\n",
       "236    1\n",
       "779    1\n",
       "Name: JobLevel, dtype: int64"
      ]
     },
     "execution_count": 42,
     "metadata": {},
     "output_type": "execute_result"
    }
   ],
   "source": [
    "# A sample of the column\n",
    "df.JobLevel.sample(3)"
   ]
  },
  {
   "cell_type": "code",
   "execution_count": 43,
   "id": "9e520ff8-61fd-4b18-b35e-ce61df403d3b",
   "metadata": {},
   "outputs": [
    {
     "data": {
      "text/plain": [
       "5"
      ]
     },
     "execution_count": 43,
     "metadata": {},
     "output_type": "execute_result"
    }
   ],
   "source": [
    "# Getting the number of unique values in the dataset\n",
    "df.JobLevel.nunique()"
   ]
  },
  {
   "cell_type": "code",
   "execution_count": 44,
   "id": "12b6c8e1-68ef-4eaf-b7f7-265ba2da3e9c",
   "metadata": {},
   "outputs": [
    {
     "data": {
      "text/plain": [
       "array([2, 1, 3, 4, 5], dtype=int64)"
      ]
     },
     "execution_count": 44,
     "metadata": {},
     "output_type": "execute_result"
    }
   ],
   "source": [
    "# The unique values in the column\n",
    "df.JobLevel.unique()"
   ]
  },
  {
   "cell_type": "markdown",
   "id": "3f21395a-d283-437e-b577-b47bd7865514",
   "metadata": {},
   "source": [
    "No information was given about this, however from previous numerical equivalent of levels, it can be said that the least level is 1, and the max level is 5.\n",
    "\n",
    "**The column name will be formatted to snake_case.**"
   ]
  },
  {
   "cell_type": "markdown",
   "id": "a7d1dd8e-c9ee-4b19-b923-ab3942ea55c3",
   "metadata": {},
   "source": [
    "#### Assesing the `JobRole` Column.\n",
    "\n",
    "This column gives information about the role of an employee."
   ]
  },
  {
   "cell_type": "code",
   "execution_count": 45,
   "id": "c97c37a8-fd97-402f-901d-7203ea6735b6",
   "metadata": {},
   "outputs": [
    {
     "data": {
      "text/plain": [
       "1349        Research Scientist\n",
       "198     Manufacturing Director\n",
       "661     Manufacturing Director\n",
       "Name: JobRole, dtype: object"
      ]
     },
     "execution_count": 45,
     "metadata": {},
     "output_type": "execute_result"
    }
   ],
   "source": [
    "# A sample of the column\n",
    "df.JobRole.sample(3)"
   ]
  },
  {
   "cell_type": "code",
   "execution_count": 46,
   "id": "66625cb7-22ea-4a24-b818-41a957d62458",
   "metadata": {},
   "outputs": [
    {
     "data": {
      "text/plain": [
       "9"
      ]
     },
     "execution_count": 46,
     "metadata": {},
     "output_type": "execute_result"
    }
   ],
   "source": [
    "# The number of unique data in the column\n",
    "df.JobRole.nunique()"
   ]
  },
  {
   "cell_type": "markdown",
   "id": "51f6b7e4-bddf-4152-87e1-ad5f4902e385",
   "metadata": {},
   "source": [
    "There are nine unique job roles in the dataset.\n",
    "\n",
    "What are they?"
   ]
  },
  {
   "cell_type": "code",
   "execution_count": 47,
   "id": "b679db18-3a02-44fe-9c01-7defc63c75bf",
   "metadata": {},
   "outputs": [
    {
     "data": {
      "text/plain": [
       "array(['Sales Executive', 'Research Scientist', 'Laboratory Technician',\n",
       "       'Manufacturing Director', 'Healthcare Representative', 'Manager',\n",
       "       'Sales Representative', 'Research Director', 'Human Resources'],\n",
       "      dtype=object)"
      ]
     },
     "execution_count": 47,
     "metadata": {},
     "output_type": "execute_result"
    }
   ],
   "source": [
    "# The unique job roles in the dataset.\n",
    "df.JobRole.unique()"
   ]
  },
  {
   "cell_type": "markdown",
   "id": "bf4d708b-cf95-4d8b-ba49-a86442816e3c",
   "metadata": {},
   "source": [
    "The unique job roles are:\n",
    "- Sales Executive\n",
    "- Research Scientist\n",
    "- Laboratory Technician\n",
    "- Manufacturing Director\n",
    "- Healthcare Representative\n",
    "- Manager\n",
    "- Sales Representative\n",
    "- Research Director\n",
    "- Human Resources\n",
    "\n",
    "**No cleaning is needed except to change the format of the column name.**"
   ]
  },
  {
   "cell_type": "markdown",
   "id": "6cef4e2d-c17f-4b46-947e-e180eed130a0",
   "metadata": {
    "tags": []
   },
   "source": [
    "#### Assesing the `JobSatisfaction` Column.\n",
    "\n",
    "This column gives the satisfaction level of an employee to his/her job.\n",
    "This column is in integers, and one of the supervisors provided us with the following on values of this column.\n",
    "- \"1\": \"Low\"\n",
    "- \"2\": \"Medium\"\n",
    "- \"3\": \"High\"\n",
    "- \"4\": \"Very High\"\n",
    "\n",
    "**From this, it can be said that there are 4 unique values in the dataset and apart from changing the format of the column name, it might be needed to change the values to more reflective or descriptive.**\n",
    "\n",
    "Let's check the unique value in the dataset to make sure there's no need to clean anything apart from the above."
   ]
  },
  {
   "cell_type": "code",
   "execution_count": 48,
   "id": "c3f49a9d-77b4-46cd-b22c-77dedac2e488",
   "metadata": {},
   "outputs": [
    {
     "data": {
      "text/plain": [
       "array([4, 2, 3, 1], dtype=int64)"
      ]
     },
     "execution_count": 48,
     "metadata": {},
     "output_type": "execute_result"
    }
   ],
   "source": [
    "# Unique values in the dataset\n",
    "df.JobSatisfaction.unique()"
   ]
  },
  {
   "cell_type": "markdown",
   "id": "4d3a609f-3465-49b8-b589-2f2012391da0",
   "metadata": {},
   "source": [
    "The column has four unique numbers, therefore the only cleaning necessary is what is stated above."
   ]
  },
  {
   "cell_type": "markdown",
   "id": "3222e025-2839-4c74-938d-bd52e3e490e6",
   "metadata": {},
   "source": [
    "#### Assesing the `MaritalStatus` Column.\n",
    "\n",
    "This column tells us about the marital status of an employee."
   ]
  },
  {
   "cell_type": "code",
   "execution_count": 49,
   "id": "c69b58b3-98b0-4268-9313-fa97a53503de",
   "metadata": {},
   "outputs": [
    {
     "data": {
      "text/plain": [
       "968     Married\n",
       "1237     Single\n",
       "843     Married\n",
       "Name: MaritalStatus, dtype: object"
      ]
     },
     "execution_count": 49,
     "metadata": {},
     "output_type": "execute_result"
    }
   ],
   "source": [
    "# A sample of the column\n",
    "df.MaritalStatus.sample(3)"
   ]
  },
  {
   "cell_type": "code",
   "execution_count": 50,
   "id": "0d6f0101-7e24-4c6a-9bb7-37534050e151",
   "metadata": {},
   "outputs": [
    {
     "data": {
      "text/plain": [
       "3"
      ]
     },
     "execution_count": 50,
     "metadata": {},
     "output_type": "execute_result"
    }
   ],
   "source": [
    "# Number of unique values in the column\n",
    "df.MaritalStatus.nunique()"
   ]
  },
  {
   "cell_type": "markdown",
   "id": "0914a2f8-b668-4f97-b31f-87e056436060",
   "metadata": {},
   "source": [
    "There are three unique values in the column, let's see what they are."
   ]
  },
  {
   "cell_type": "code",
   "execution_count": 51,
   "id": "f8391b95-ed76-4fe8-b5f1-d2ff572e5e88",
   "metadata": {},
   "outputs": [
    {
     "data": {
      "text/plain": [
       "array(['Single', 'Married', 'Divorced'], dtype=object)"
      ]
     },
     "execution_count": 51,
     "metadata": {},
     "output_type": "execute_result"
    }
   ],
   "source": [
    "# Unique values in the column\n",
    "df.MaritalStatus.unique()"
   ]
  },
  {
   "cell_type": "markdown",
   "id": "157cbb69-9a5d-4aa8-80b8-8cc2590a1f7a",
   "metadata": {},
   "source": [
    "The three values are:\n",
    "- Married\n",
    "- Single \n",
    "- Divorced.\n",
    "\n",
    "**The only cleaning required is the general cleaning of formatting the column names.**"
   ]
  },
  {
   "cell_type": "markdown",
   "id": "5f6ee43e-1d83-4d73-a42d-83f1fcc08cac",
   "metadata": {},
   "source": [
    "#### Assesing the `MonthlyIncome` Column.\n",
    "\n",
    "This column gives the monthly income of the employees."
   ]
  },
  {
   "cell_type": "code",
   "execution_count": 52,
   "id": "bafd0f9d-ee6c-437d-8d34-5ccaef14872d",
   "metadata": {},
   "outputs": [
    {
     "data": {
      "text/plain": [
       "0    5993\n",
       "1    5130\n",
       "2    2090\n",
       "3    2909\n",
       "4    3468\n",
       "Name: MonthlyIncome, dtype: int64"
      ]
     },
     "execution_count": 52,
     "metadata": {},
     "output_type": "execute_result"
    }
   ],
   "source": [
    "# The top 5 entries of the column\n",
    "df.MonthlyIncome.head()"
   ]
  },
  {
   "cell_type": "code",
   "execution_count": 53,
   "id": "da39e785-9bca-4b48-aa7a-e73560ca6be3",
   "metadata": {},
   "outputs": [
    {
     "data": {
      "text/plain": [
       "count     1470.000000\n",
       "mean      6502.931293\n",
       "std       4707.956783\n",
       "min       1009.000000\n",
       "25%       2911.000000\n",
       "50%       4919.000000\n",
       "75%       8379.000000\n",
       "max      19999.000000\n",
       "Name: MonthlyIncome, dtype: float64"
      ]
     },
     "execution_count": 53,
     "metadata": {},
     "output_type": "execute_result"
    }
   ],
   "source": [
    "# Summary statistics of the column.\n",
    "df.MonthlyIncome.describe()"
   ]
  },
  {
   "cell_type": "markdown",
   "id": "34a4840b-81e8-42e9-aa0f-708778bf7bb7",
   "metadata": {},
   "source": [
    "**The column name format will be changed to snake_case.**"
   ]
  },
  {
   "cell_type": "markdown",
   "id": "59f48b08-3ca4-409b-911f-73694dbd0339",
   "metadata": {},
   "source": [
    "#### Assesing the `NumCompaniesWorked` Column.\n",
    "\n",
    "This answers the the question \"how many companies has this employee worked for?\""
   ]
  },
  {
   "cell_type": "code",
   "execution_count": 54,
   "id": "2d865c3f-2064-40d4-85f1-0eb3f19939b5",
   "metadata": {},
   "outputs": [
    {
     "data": {
      "text/plain": [
       "91      0\n",
       "1370    8\n",
       "667     4\n",
       "Name: NumCompaniesWorked, dtype: int64"
      ]
     },
     "execution_count": 54,
     "metadata": {},
     "output_type": "execute_result"
    }
   ],
   "source": [
    "# Sample of the column\n",
    "df.NumCompaniesWorked.sample(3)"
   ]
  },
  {
   "cell_type": "markdown",
   "id": "57186ecc-bef1-4091-be6d-d0013a7147ad",
   "metadata": {},
   "source": [
    "**The column name will be formatted and nothing else will be done.**"
   ]
  },
  {
   "cell_type": "markdown",
   "id": "bd4b6213-78ba-4035-b152-8edc1d8995a4",
   "metadata": {},
   "source": [
    "#### Assesing the `Over18` Column.\n",
    "\n",
    "More information is needed to know what this column is about."
   ]
  },
  {
   "cell_type": "code",
   "execution_count": 55,
   "id": "5fd63bc7-b253-4b84-9d3c-1c368f20d76d",
   "metadata": {},
   "outputs": [
    {
     "data": {
      "text/plain": [
       "0    Y\n",
       "1    Y\n",
       "2    Y\n",
       "3    Y\n",
       "4    Y\n",
       "Name: Over18, dtype: object"
      ]
     },
     "execution_count": 55,
     "metadata": {},
     "output_type": "execute_result"
    }
   ],
   "source": [
    "# First 5 rows of the column\n",
    "df.Over18.head()"
   ]
  },
  {
   "cell_type": "code",
   "execution_count": 56,
   "id": "714f288e-5af5-47f6-a9ca-1e41d9da6941",
   "metadata": {},
   "outputs": [
    {
     "data": {
      "text/plain": [
       "1"
      ]
     },
     "execution_count": 56,
     "metadata": {},
     "output_type": "execute_result"
    }
   ],
   "source": [
    "# Number of unique values in the column.\n",
    "df.Over18.nunique()"
   ]
  },
  {
   "cell_type": "markdown",
   "id": "10b3a5b0-9e02-4af0-ad28-755a34950f31",
   "metadata": {},
   "source": [
    "**Well it seems that the column is giving us information if the employee is older than 18. As the minimum age is 18, this column is not needed and will be dropped.**"
   ]
  },
  {
   "cell_type": "markdown",
   "id": "3159f7f0-0e3f-42c3-9895-dca52e8b0eab",
   "metadata": {},
   "source": [
    "#### Assesing the `OverTime` Column.\n",
    "\n",
    "This column gives information about whether an employee does overtime or not."
   ]
  },
  {
   "cell_type": "code",
   "execution_count": 57,
   "id": "6de9278f-a877-4278-9057-e62d2ab08ca9",
   "metadata": {},
   "outputs": [
    {
     "data": {
      "text/plain": [
       "1307    No\n",
       "789     No\n",
       "600     No\n",
       "Name: OverTime, dtype: object"
      ]
     },
     "execution_count": 57,
     "metadata": {},
     "output_type": "execute_result"
    }
   ],
   "source": [
    "# A sample of the column\n",
    "df.OverTime.sample(3)"
   ]
  },
  {
   "cell_type": "markdown",
   "id": "60eaa6e5-7d9b-4779-981b-49973943dbfc",
   "metadata": {},
   "source": [
    "Let's check the number of unique values in the column."
   ]
  },
  {
   "cell_type": "code",
   "execution_count": 58,
   "id": "d0defbc8-cd1b-476c-9043-fb49259b0931",
   "metadata": {},
   "outputs": [
    {
     "data": {
      "text/plain": [
       "2"
      ]
     },
     "execution_count": 58,
     "metadata": {},
     "output_type": "execute_result"
    }
   ],
   "source": [
    "# Number of unique values.\n",
    "df.OverTime.nunique()"
   ]
  },
  {
   "cell_type": "code",
   "execution_count": 59,
   "id": "7f639678-564b-4236-936c-7e0070a11f89",
   "metadata": {},
   "outputs": [
    {
     "data": {
      "text/plain": [
       "array(['Yes', 'No'], dtype=object)"
      ]
     },
     "execution_count": 59,
     "metadata": {},
     "output_type": "execute_result"
    }
   ],
   "source": [
    "# Unique values.\n",
    "df.OverTime.unique()"
   ]
  },
  {
   "cell_type": "markdown",
   "id": "1858b99a-e778-4a1b-bb3a-c31b65d70f90",
   "metadata": {},
   "source": [
    "**From the above cells, the datatype can be changed to boolean.**"
   ]
  },
  {
   "cell_type": "markdown",
   "id": "8552c39e-d7be-4f8b-8cab-3905b503cacc",
   "metadata": {},
   "source": [
    "#### Assesing the `PercentSalaryHike` Column.\n",
    "\n",
    "This gives the percentage an employee's salary was increased by."
   ]
  },
  {
   "cell_type": "code",
   "execution_count": 60,
   "id": "63d8b4fd-6cbd-4c32-8343-313357fe45dd",
   "metadata": {},
   "outputs": [
    {
     "data": {
      "text/plain": [
       "940    13\n",
       "682    20\n",
       "760    12\n",
       "Name: PercentSalaryHike, dtype: int64"
      ]
     },
     "execution_count": 60,
     "metadata": {},
     "output_type": "execute_result"
    }
   ],
   "source": [
    "# A sample of the column\n",
    "df.PercentSalaryHike.sample(3)"
   ]
  },
  {
   "cell_type": "code",
   "execution_count": 61,
   "id": "7284e2b0-2a9a-4fc8-9d29-ae569ebcb617",
   "metadata": {},
   "outputs": [
    {
     "data": {
      "text/plain": [
       "count    1470.000000\n",
       "mean       15.209524\n",
       "std         3.659938\n",
       "min        11.000000\n",
       "25%        12.000000\n",
       "50%        14.000000\n",
       "75%        18.000000\n",
       "max        25.000000\n",
       "Name: PercentSalaryHike, dtype: float64"
      ]
     },
     "execution_count": 61,
     "metadata": {},
     "output_type": "execute_result"
    }
   ],
   "source": [
    "# Summary statistics of the column.\n",
    "df.PercentSalaryHike.describe()"
   ]
  },
  {
   "cell_type": "markdown",
   "id": "d8c2a76b-b25b-4517-801a-e0a443e6b1cc",
   "metadata": {},
   "source": [
    "**The column name will be formatted.**"
   ]
  },
  {
   "cell_type": "markdown",
   "id": "5dd83aa3-cc62-479e-8532-c0e004c580a4",
   "metadata": {},
   "source": [
    "#### Assesing the `PerformanceRating` Column.\n",
    "\n",
    "This column gives the performance ratings of the employees.\n",
    "This column is in integers, and one of the supervisors provided us with the following on values of this column.\n",
    "- \"1\": \"Low\"\n",
    "- \"2\": \"Good\"\n",
    "- \"3\": \"Excellent\"\n",
    "- \"4\": \"Outstanding\"\n",
    "\n",
    "**From this, it can be said that there are 4 unique values in the dataset and apart from changing the format of the column name, it might be needed to change the values to more reflective or descriptive.**\n",
    "\n",
    "Let's check the unique value in the dataset to make sure there's no need to clean anything apart from the above."
   ]
  },
  {
   "cell_type": "code",
   "execution_count": 62,
   "id": "ee68f6f7-e668-464c-a6c0-500333b98932",
   "metadata": {},
   "outputs": [
    {
     "data": {
      "text/plain": [
       "array([3, 4], dtype=int64)"
      ]
     },
     "execution_count": 62,
     "metadata": {},
     "output_type": "execute_result"
    }
   ],
   "source": [
    "# Unique values in the column\n",
    "df.PerformanceRating.unique()"
   ]
  },
  {
   "cell_type": "markdown",
   "id": "240e76fc-6bbc-4c3e-9223-5953c1fec083",
   "metadata": {},
   "source": [
    "There are only 2 unique values of `3` and `4` which means all employee were at least excellent in their perfomance ratings.\n",
    "\n",
    "**As usual, the column name will be formatted, and the values will be changed to reflect the ratings**."
   ]
  },
  {
   "cell_type": "markdown",
   "id": "70d22b50-2e1a-492d-bdd8-b4980b272ef5",
   "metadata": {},
   "source": [
    "#### Assesing the `RelationshipSatisfaction` Column.\n",
    "This is one of the columns that more info was provided. The column gives us the satisfaction ratings on the employees relationship.\n",
    "\n",
    "The values for this column are:\n",
    "- \"1\": \"Low\"\n",
    "- \"2\": \"Good\"\n",
    "- \"3\": \"Excellent\"\n",
    "- \"4\": \"Outstanding\"\n",
    "\n",
    "**From this, it can be said that there are 4 unique values in the dataset and apart from changing the format of the column name, it might be needed to change the values to more reflective or descriptive.**\n",
    "\n",
    "Let's check the unique value in the dataset to make sure there's no need to clean anything apart from the above."
   ]
  },
  {
   "cell_type": "code",
   "execution_count": 63,
   "id": "32996b07-8a43-414f-a188-367dc459af1a",
   "metadata": {},
   "outputs": [
    {
     "data": {
      "text/plain": [
       "array([1, 4, 2, 3], dtype=int64)"
      ]
     },
     "execution_count": 63,
     "metadata": {},
     "output_type": "execute_result"
    }
   ],
   "source": [
    "# Unique values in the column.\n",
    "df.RelationshipSatisfaction.unique()"
   ]
  },
  {
   "cell_type": "markdown",
   "id": "e410a775-bf39-4b9a-88c8-60fc06f84afd",
   "metadata": {},
   "source": [
    "**The values will be changed to reflect their satisfaction.**"
   ]
  },
  {
   "cell_type": "markdown",
   "id": "efd4109a-8765-4a34-abea-672bee215a6c",
   "metadata": {},
   "source": [
    "#### Assesing the `StandardHours` Column.\n",
    "This column give the standard hours an employee works for in a week, this is not including the overtime.\n",
    "\n",
    "It shoud be a constant. If it is, the column will be dropped as it is a common denominator and will have no impact on attrition or not."
   ]
  },
  {
   "cell_type": "code",
   "execution_count": 64,
   "id": "d24c3bec-c4c7-44c1-b29b-268d538bec02",
   "metadata": {},
   "outputs": [
    {
     "data": {
      "text/plain": [
       "1"
      ]
     },
     "execution_count": 64,
     "metadata": {},
     "output_type": "execute_result"
    }
   ],
   "source": [
    "# Number of unique values in the column\n",
    "df.StandardHours.nunique()"
   ]
  },
  {
   "cell_type": "code",
   "execution_count": 65,
   "id": "e3096d7d-72f0-409e-971d-2db447fef303",
   "metadata": {},
   "outputs": [
    {
     "data": {
      "text/plain": [
       "array([80], dtype=int64)"
      ]
     },
     "execution_count": 65,
     "metadata": {},
     "output_type": "execute_result"
    }
   ],
   "source": [
    "# The unique value in the column\n",
    "df.StandardHours.unique()"
   ]
  },
  {
   "cell_type": "markdown",
   "id": "8da193d2-86f8-4e05-b22f-db723cce5265",
   "metadata": {},
   "source": [
    "**The column will be dropped because all employees has the same standard hours.**"
   ]
  },
  {
   "cell_type": "markdown",
   "id": "bca71401-31a9-4721-a64a-327332b5421e",
   "metadata": {},
   "source": [
    "#### Assesing the `StockOptionLevel` Column.\n",
    "\n",
    "This needs more investigation."
   ]
  },
  {
   "cell_type": "code",
   "execution_count": 66,
   "id": "bb22677a-14d1-48e9-88db-5b50cefae767",
   "metadata": {},
   "outputs": [
    {
     "data": {
      "text/plain": [
       "1204    2\n",
       "105     1\n",
       "1137    0\n",
       "1345    0\n",
       "1090    1\n",
       "Name: StockOptionLevel, dtype: int64"
      ]
     },
     "execution_count": 66,
     "metadata": {},
     "output_type": "execute_result"
    }
   ],
   "source": [
    "# A sample of the column.\n",
    "df.StockOptionLevel.sample(5)"
   ]
  },
  {
   "cell_type": "code",
   "execution_count": 67,
   "id": "d4c6a066-7f08-4c83-89cf-5bcf6368a6cb",
   "metadata": {},
   "outputs": [
    {
     "data": {
      "text/plain": [
       "4"
      ]
     },
     "execution_count": 67,
     "metadata": {},
     "output_type": "execute_result"
    }
   ],
   "source": [
    "# Number of unique values in the column.\n",
    "df.StockOptionLevel.nunique()"
   ]
  },
  {
   "cell_type": "markdown",
   "id": "31c4e54a-1592-4704-b970-a1a33c8fb2ed",
   "metadata": {},
   "source": [
    "There are 4 unique values in the column."
   ]
  },
  {
   "cell_type": "code",
   "execution_count": 68,
   "id": "c6dd0dc3-cae3-4e94-ac02-5e64909e0a0c",
   "metadata": {},
   "outputs": [
    {
     "data": {
      "text/plain": [
       "array([0, 1, 3, 2], dtype=int64)"
      ]
     },
     "execution_count": 68,
     "metadata": {},
     "output_type": "execute_result"
    }
   ],
   "source": [
    "# Unique values in the column\n",
    "df.StockOptionLevel.unique()"
   ]
  },
  {
   "cell_type": "markdown",
   "id": "9dcd9a3d-1fc2-42f2-802d-81c865d4dec4",
   "metadata": {},
   "source": [
    "The values are 0, 1, 2 and 3. They represent the level of stock options of employees.\n",
    "\n",
    "**The general cleaning of changing the column names is to be done.**"
   ]
  },
  {
   "cell_type": "markdown",
   "id": "3e4696fc-0a53-4155-9818-6ac604cd9f96",
   "metadata": {},
   "source": [
    "#### Assesing the `TotalWorkingYears` Column.\n",
    "\n",
    "This column gives the total years worked of an employee.\n",
    "\n",
    "**From the summary statistics done above, the minimum value is 0 and the maximum is 40. Only the column name needs to be formated.**"
   ]
  },
  {
   "cell_type": "markdown",
   "id": "d6dc23bb-9ce1-499b-ad88-50830cb8ad97",
   "metadata": {},
   "source": [
    "#### Assesing the `TrainingTimeLastYear` Column.\n",
    "\n",
    "This column gives the hours spent training in the previous year."
   ]
  },
  {
   "cell_type": "code",
   "execution_count": 69,
   "id": "0ea93c81-a2b5-484e-8727-aa75d849e1bd",
   "metadata": {},
   "outputs": [
    {
     "data": {
      "text/plain": [
       "1469    3\n",
       "250     5\n",
       "1430    3\n",
       "Name: TrainingTimesLastYear, dtype: int64"
      ]
     },
     "execution_count": 69,
     "metadata": {},
     "output_type": "execute_result"
    }
   ],
   "source": [
    "# A sample of the data\n",
    "df.TrainingTimesLastYear.sample(3)"
   ]
  },
  {
   "cell_type": "code",
   "execution_count": 70,
   "id": "a15594e4-0f6e-4d62-a45e-885092eac1f6",
   "metadata": {},
   "outputs": [
    {
     "data": {
      "text/plain": [
       "7"
      ]
     },
     "execution_count": 70,
     "metadata": {},
     "output_type": "execute_result"
    }
   ],
   "source": [
    "# Number of unique values.\n",
    "df.TrainingTimesLastYear.nunique()"
   ]
  },
  {
   "cell_type": "code",
   "execution_count": 71,
   "id": "8c656f49-f381-46fb-9f37-3cd62998f57b",
   "metadata": {},
   "outputs": [
    {
     "data": {
      "text/plain": [
       "array([0, 3, 2, 5, 1, 4, 6], dtype=int64)"
      ]
     },
     "execution_count": 71,
     "metadata": {},
     "output_type": "execute_result"
    }
   ],
   "source": [
    "# Unique values of the column\n",
    "df.TrainingTimesLastYear.unique()"
   ]
  },
  {
   "cell_type": "markdown",
   "id": "74bb1517-2284-4fc1-b782-b51697cc3249",
   "metadata": {},
   "source": [
    "**The column name will be formated.**"
   ]
  },
  {
   "cell_type": "markdown",
   "id": "0005b41e-61d7-4d07-9886-77a36d8b3943",
   "metadata": {},
   "source": [
    "#### Assesing the `WorkLifeBalance` Column.\n",
    "This is one of the columns that more info was provided. The column gives us the satisfaction ratings on the employees relationship.\n",
    "\n",
    "The values for this column are:\n",
    "- \"1\": \"Bad\"\n",
    "- \"2\": \"Good\"\n",
    "- \"3\": \"Better\"\n",
    "- \"4\": \"Best\"\n",
    "\n",
    "**From this, it can be said that there are 4 unique values in the dataset and apart from changing the format of the column name, it might be needed to change the values to more reflective or descriptive.**\n",
    "\n",
    "Let's check the unique value in the dataset to make sure there's no need to clean anything apart from the above."
   ]
  },
  {
   "cell_type": "code",
   "execution_count": 72,
   "id": "3787b8e8-ded7-468b-966c-5931620e6b46",
   "metadata": {},
   "outputs": [
    {
     "data": {
      "text/plain": [
       "array([1, 3, 2, 4], dtype=int64)"
      ]
     },
     "execution_count": 72,
     "metadata": {},
     "output_type": "execute_result"
    }
   ],
   "source": [
    "# Unique values in the column\n",
    "df.WorkLifeBalance.unique()"
   ]
  },
  {
   "cell_type": "markdown",
   "id": "416dbd88-b765-4e42-86da-ea14504bd795",
   "metadata": {},
   "source": [
    "**This column falls under the general cleaning of formatting column names.**"
   ]
  },
  {
   "cell_type": "markdown",
   "id": "b1021ef6-1f30-4301-9cb1-e22c485525ac",
   "metadata": {},
   "source": [
    "#### Assesing the `YearsAtCompany`, `YearsInCurrentRole`, `YearsSinceLastPromotion` and `YearsWithCurrManager` Columns.\n",
    "\n",
    "These columns gives us the respective years an employee has used at the company, in current role, year(s) since last promotion and year(s) with current manager.\n",
    "\n",
    "**From the summary statistics, these columns don't need any cleaning except to format the column names to snake_case.**"
   ]
  },
  {
   "cell_type": "markdown",
   "id": "d8c6b31a-75f9-44d4-bbdb-717cbc69ff05",
   "metadata": {
    "tags": []
   },
   "source": [
    "### Data Cleaning."
   ]
  },
  {
   "cell_type": "markdown",
   "id": "72d45256-8937-42e4-938b-c9d5a9493042",
   "metadata": {},
   "source": [
    "### Summary of Cleaning to be done\n",
    "1. Drop columns\n",
    "2. Reformat remaining column names.\n",
    "3. Change some values in some column\n",
    "4. Change some columns to boolean True/False\n",
    "\n",
    "**Columns to be dropped.**\n",
    "- DailyRate\n",
    "- EmployeeCount\n",
    "- EmployeeNumber\n",
    "- HourlyRate\n",
    "- MonthlyRate\n",
    "- Over18\n",
    "- StandardHours\n",
    "\n",
    "\n",
    "**Columns which needs to be changed to boolean.**\n",
    "- Attrition\n",
    "- Overtime\n",
    "\n",
    "**Columns where Values needs to be changed.**\n",
    "- Education\n",
    "- EnvironmentSatisfaction\n",
    "- JobInvolvement\n",
    "- JobSatisfaction\n",
    "- performanceRating\n",
    "- RelationshipSatisfaction\n",
    "- WorkLifeBalance"
   ]
  },
  {
   "cell_type": "code",
   "execution_count": 73,
   "id": "7ef3ffb9-4f48-4349-99d0-68d2328f9395",
   "metadata": {},
   "outputs": [
    {
     "data": {
      "text/html": [
       "<div>\n",
       "<style scoped>\n",
       "    .dataframe tbody tr th:only-of-type {\n",
       "        vertical-align: middle;\n",
       "    }\n",
       "\n",
       "    .dataframe tbody tr th {\n",
       "        vertical-align: top;\n",
       "    }\n",
       "\n",
       "    .dataframe thead th {\n",
       "        text-align: right;\n",
       "    }\n",
       "</style>\n",
       "<table border=\"1\" class=\"dataframe\">\n",
       "  <thead>\n",
       "    <tr style=\"text-align: right;\">\n",
       "      <th></th>\n",
       "      <th>id</th>\n",
       "      <th>Age</th>\n",
       "      <th>Attrition</th>\n",
       "      <th>BusinessTravel</th>\n",
       "      <th>DailyRate</th>\n",
       "      <th>Department</th>\n",
       "      <th>DistanceFromHome</th>\n",
       "      <th>Education</th>\n",
       "      <th>EducationField</th>\n",
       "      <th>EmployeeCount</th>\n",
       "      <th>...</th>\n",
       "      <th>RelationshipSatisfaction</th>\n",
       "      <th>StandardHours</th>\n",
       "      <th>StockOptionLevel</th>\n",
       "      <th>TotalWorkingYears</th>\n",
       "      <th>TrainingTimesLastYear</th>\n",
       "      <th>WorkLifeBalance</th>\n",
       "      <th>YearsAtCompany</th>\n",
       "      <th>YearsInCurrentRole</th>\n",
       "      <th>YearsSinceLastPromotion</th>\n",
       "      <th>YearsWithCurrManager</th>\n",
       "    </tr>\n",
       "  </thead>\n",
       "  <tbody>\n",
       "    <tr>\n",
       "      <th>0</th>\n",
       "      <td>1</td>\n",
       "      <td>41</td>\n",
       "      <td>Yes</td>\n",
       "      <td>Travel_Rarely</td>\n",
       "      <td>1102</td>\n",
       "      <td>Sales</td>\n",
       "      <td>1</td>\n",
       "      <td>2</td>\n",
       "      <td>Life Sciences</td>\n",
       "      <td>1</td>\n",
       "      <td>...</td>\n",
       "      <td>1</td>\n",
       "      <td>80</td>\n",
       "      <td>0</td>\n",
       "      <td>8</td>\n",
       "      <td>0</td>\n",
       "      <td>1</td>\n",
       "      <td>6</td>\n",
       "      <td>4</td>\n",
       "      <td>0</td>\n",
       "      <td>5</td>\n",
       "    </tr>\n",
       "    <tr>\n",
       "      <th>1</th>\n",
       "      <td>2</td>\n",
       "      <td>49</td>\n",
       "      <td>No</td>\n",
       "      <td>Travel_Frequently</td>\n",
       "      <td>279</td>\n",
       "      <td>Research &amp; Development</td>\n",
       "      <td>8</td>\n",
       "      <td>1</td>\n",
       "      <td>Life Sciences</td>\n",
       "      <td>1</td>\n",
       "      <td>...</td>\n",
       "      <td>4</td>\n",
       "      <td>80</td>\n",
       "      <td>1</td>\n",
       "      <td>10</td>\n",
       "      <td>3</td>\n",
       "      <td>3</td>\n",
       "      <td>10</td>\n",
       "      <td>7</td>\n",
       "      <td>1</td>\n",
       "      <td>7</td>\n",
       "    </tr>\n",
       "    <tr>\n",
       "      <th>2</th>\n",
       "      <td>3</td>\n",
       "      <td>37</td>\n",
       "      <td>Yes</td>\n",
       "      <td>Travel_Rarely</td>\n",
       "      <td>1373</td>\n",
       "      <td>Research &amp; Development</td>\n",
       "      <td>2</td>\n",
       "      <td>2</td>\n",
       "      <td>Other</td>\n",
       "      <td>1</td>\n",
       "      <td>...</td>\n",
       "      <td>2</td>\n",
       "      <td>80</td>\n",
       "      <td>0</td>\n",
       "      <td>7</td>\n",
       "      <td>3</td>\n",
       "      <td>3</td>\n",
       "      <td>0</td>\n",
       "      <td>0</td>\n",
       "      <td>0</td>\n",
       "      <td>0</td>\n",
       "    </tr>\n",
       "  </tbody>\n",
       "</table>\n",
       "<p>3 rows × 36 columns</p>\n",
       "</div>"
      ],
      "text/plain": [
       "   id  Age Attrition     BusinessTravel  DailyRate              Department  \\\n",
       "0   1   41       Yes      Travel_Rarely       1102                   Sales   \n",
       "1   2   49        No  Travel_Frequently        279  Research & Development   \n",
       "2   3   37       Yes      Travel_Rarely       1373  Research & Development   \n",
       "\n",
       "   DistanceFromHome  Education EducationField  EmployeeCount  ...  \\\n",
       "0                 1          2  Life Sciences              1  ...   \n",
       "1                 8          1  Life Sciences              1  ...   \n",
       "2                 2          2          Other              1  ...   \n",
       "\n",
       "   RelationshipSatisfaction  StandardHours StockOptionLevel  \\\n",
       "0                         1             80                0   \n",
       "1                         4             80                1   \n",
       "2                         2             80                0   \n",
       "\n",
       "   TotalWorkingYears  TrainingTimesLastYear  WorkLifeBalance YearsAtCompany  \\\n",
       "0                  8                      0                1              6   \n",
       "1                 10                      3                3             10   \n",
       "2                  7                      3                3              0   \n",
       "\n",
       "   YearsInCurrentRole YearsSinceLastPromotion  YearsWithCurrManager  \n",
       "0                   4                       0                     5  \n",
       "1                   7                       1                     7  \n",
       "2                   0                       0                     0  \n",
       "\n",
       "[3 rows x 36 columns]"
      ]
     },
     "execution_count": 73,
     "metadata": {},
     "output_type": "execute_result"
    }
   ],
   "source": [
    "# Copy dataset to preserve original data\n",
    "df_to_clean = df.copy()\n",
    "df_to_clean.head(3) # View first three rows."
   ]
  },
  {
   "cell_type": "code",
   "execution_count": 74,
   "id": "d50bf713-05e8-4345-91c6-c952eb6a7df0",
   "metadata": {},
   "outputs": [
    {
     "data": {
      "text/plain": [
       "(1470, 36)"
      ]
     },
     "execution_count": 74,
     "metadata": {},
     "output_type": "execute_result"
    }
   ],
   "source": [
    "# Check shape of new dataset\n",
    "df_to_clean.shape"
   ]
  },
  {
   "cell_type": "markdown",
   "id": "8c663050-3e94-4b16-878b-66126bd97c5f",
   "metadata": {},
   "source": [
    "#### Dropping redundant columns."
   ]
  },
  {
   "cell_type": "code",
   "execution_count": 75,
   "id": "53409006-cb6a-4712-8288-6f07d637993c",
   "metadata": {},
   "outputs": [
    {
     "data": {
      "text/plain": [
       "(1470, 29)"
      ]
     },
     "execution_count": 75,
     "metadata": {},
     "output_type": "execute_result"
    }
   ],
   "source": [
    "# Drop redundant columns\n",
    "df_to_clean.drop(['DailyRate', 'EmployeeCount', 'EmployeeNumber', 'HourlyRate', 'MonthlyRate', 'Over18', 'StandardHours'], axis=1, inplace=True)\n",
    "\n",
    "# Check if columns has been dropped\n",
    "df_to_clean.shape"
   ]
  },
  {
   "cell_type": "markdown",
   "id": "7a6d2c74-2b2d-447e-a2ce-f0c342ac8f8e",
   "metadata": {},
   "source": [
    "It is reflected in the difference of the shape before and after dropping the columns that 7 columns have been dropped."
   ]
  },
  {
   "cell_type": "markdown",
   "id": "adcfe148-1c3b-4f91-a4d6-8f32034f4809",
   "metadata": {},
   "source": [
    "#### Reformatting Column names."
   ]
  },
  {
   "cell_type": "code",
   "execution_count": 76,
   "id": "e8e30dcd-f004-43d1-902b-2578cb6a1b90",
   "metadata": {},
   "outputs": [
    {
     "data": {
      "text/html": [
       "<div>\n",
       "<style scoped>\n",
       "    .dataframe tbody tr th:only-of-type {\n",
       "        vertical-align: middle;\n",
       "    }\n",
       "\n",
       "    .dataframe tbody tr th {\n",
       "        vertical-align: top;\n",
       "    }\n",
       "\n",
       "    .dataframe thead th {\n",
       "        text-align: right;\n",
       "    }\n",
       "</style>\n",
       "<table border=\"1\" class=\"dataframe\">\n",
       "  <thead>\n",
       "    <tr style=\"text-align: right;\">\n",
       "      <th></th>\n",
       "      <th>id</th>\n",
       "      <th>age</th>\n",
       "      <th>attrition</th>\n",
       "      <th>businesstravel</th>\n",
       "      <th>department</th>\n",
       "      <th>distancefromhome</th>\n",
       "      <th>education</th>\n",
       "      <th>educationfield</th>\n",
       "      <th>environmentsatisfaction</th>\n",
       "      <th>gender</th>\n",
       "      <th>...</th>\n",
       "      <th>performancerating</th>\n",
       "      <th>relationshipsatisfaction</th>\n",
       "      <th>stockoptionlevel</th>\n",
       "      <th>totalworkingyears</th>\n",
       "      <th>trainingtimeslastyear</th>\n",
       "      <th>worklifebalance</th>\n",
       "      <th>yearsatcompany</th>\n",
       "      <th>yearsincurrentrole</th>\n",
       "      <th>yearssincelastpromotion</th>\n",
       "      <th>yearswithcurrmanager</th>\n",
       "    </tr>\n",
       "  </thead>\n",
       "  <tbody>\n",
       "    <tr>\n",
       "      <th>0</th>\n",
       "      <td>1</td>\n",
       "      <td>41</td>\n",
       "      <td>Yes</td>\n",
       "      <td>Travel_Rarely</td>\n",
       "      <td>Sales</td>\n",
       "      <td>1</td>\n",
       "      <td>2</td>\n",
       "      <td>Life Sciences</td>\n",
       "      <td>2</td>\n",
       "      <td>Female</td>\n",
       "      <td>...</td>\n",
       "      <td>3</td>\n",
       "      <td>1</td>\n",
       "      <td>0</td>\n",
       "      <td>8</td>\n",
       "      <td>0</td>\n",
       "      <td>1</td>\n",
       "      <td>6</td>\n",
       "      <td>4</td>\n",
       "      <td>0</td>\n",
       "      <td>5</td>\n",
       "    </tr>\n",
       "  </tbody>\n",
       "</table>\n",
       "<p>1 rows × 29 columns</p>\n",
       "</div>"
      ],
      "text/plain": [
       "   id  age attrition businesstravel department  distancefromhome  education  \\\n",
       "0   1   41       Yes  Travel_Rarely      Sales                 1          2   \n",
       "\n",
       "  educationfield  environmentsatisfaction  gender  ...  performancerating  \\\n",
       "0  Life Sciences                        2  Female  ...                  3   \n",
       "\n",
       "   relationshipsatisfaction stockoptionlevel  totalworkingyears  \\\n",
       "0                         1                0                  8   \n",
       "\n",
       "  trainingtimeslastyear  worklifebalance  yearsatcompany yearsincurrentrole  \\\n",
       "0                     0                1               6                  4   \n",
       "\n",
       "   yearssincelastpromotion  yearswithcurrmanager  \n",
       "0                        0                     5  \n",
       "\n",
       "[1 rows x 29 columns]"
      ]
     },
     "execution_count": 76,
     "metadata": {},
     "output_type": "execute_result"
    }
   ],
   "source": [
    "# Change column names to lower case.\n",
    "df_to_clean.rename(columns=lambda x: x.strip().lower(), inplace=True)\n",
    "\n",
    "# Check changes\n",
    "df_to_clean.head(1)"
   ]
  },
  {
   "cell_type": "code",
   "execution_count": 77,
   "id": "c44c310d-a191-4be1-9144-0940078f193d",
   "metadata": {},
   "outputs": [
    {
     "data": {
      "text/plain": [
       "Index(['id', 'age', 'attrition', 'businesstravel', 'department',\n",
       "       'distancefromhome', 'education', 'educationfield',\n",
       "       'environmentsatisfaction', 'gender', 'jobinvolvement', 'joblevel',\n",
       "       'jobrole', 'jobsatisfaction', 'maritalstatus', 'monthlyincome',\n",
       "       'numcompaniesworked', 'overtime', 'percentsalaryhike',\n",
       "       'performancerating', 'relationshipsatisfaction', 'stockoptionlevel',\n",
       "       'totalworkingyears', 'trainingtimeslastyear', 'worklifebalance',\n",
       "       'yearsatcompany', 'yearsincurrentrole', 'yearssincelastpromotion',\n",
       "       'yearswithcurrmanager'],\n",
       "      dtype='object')"
      ]
     },
     "execution_count": 77,
     "metadata": {},
     "output_type": "execute_result"
    }
   ],
   "source": [
    "# View column names\n",
    "df_to_clean.columns"
   ]
  },
  {
   "cell_type": "code",
   "execution_count": 78,
   "id": "5b8dbc15-c43c-49ec-90eb-c9d5110b52ea",
   "metadata": {},
   "outputs": [],
   "source": [
    "# Rename columns by adding '_'\n",
    "new_columns = {'businesstravel':'business_travel', 'distancefromhome':'distance_from_home',\n",
    "               'educationfield': 'education_field', 'environmentsatisfaction':'environment_satisfaction',\n",
    "          'jobinvolvement':'job_involvement', 'joblevel':'job_level', 'jobrole':'job_role', \n",
    "          'jobsatisfaction':'job_satisfaction', 'maritalstatus':'marital_status',\n",
    "          'monthlyincome':'monthly_income', 'numcompaniesworked':'num_companies_worked',\n",
    "         'percentsalaryhike':'percent_salary_hike', 'performancerating':'performance_rating',\n",
    "         'relationshipsatisfaction':'relationship_satisfaction', 'stockoptionlevel':'stock_option_level',\n",
    "         'totalworkingyears':'total_working_years', 'trainingtimeslastyear':'training_times_last_year', \n",
    "        'worklifebalance':'work_life_balance', 'yearsatcompany':'years_at_company', 'yearsincurrentrole':'years_in_current_role',\n",
    "         'yearssincelastpromotion':'years_since_last_promotion', 'yearswithcurrentmanager':'years_with_current_manager'}\n",
    "df_to_clean.rename(columns=new_columns, inplace=True)"
   ]
  },
  {
   "cell_type": "code",
   "execution_count": 79,
   "id": "b6249eff-3fb0-4f10-ac08-6ed069046737",
   "metadata": {},
   "outputs": [
    {
     "data": {
      "text/html": [
       "<div>\n",
       "<style scoped>\n",
       "    .dataframe tbody tr th:only-of-type {\n",
       "        vertical-align: middle;\n",
       "    }\n",
       "\n",
       "    .dataframe tbody tr th {\n",
       "        vertical-align: top;\n",
       "    }\n",
       "\n",
       "    .dataframe thead th {\n",
       "        text-align: right;\n",
       "    }\n",
       "</style>\n",
       "<table border=\"1\" class=\"dataframe\">\n",
       "  <thead>\n",
       "    <tr style=\"text-align: right;\">\n",
       "      <th></th>\n",
       "      <th>id</th>\n",
       "      <th>age</th>\n",
       "      <th>attrition</th>\n",
       "      <th>business_travel</th>\n",
       "      <th>department</th>\n",
       "      <th>distance_from_home</th>\n",
       "      <th>education</th>\n",
       "      <th>education_field</th>\n",
       "      <th>environment_satisfaction</th>\n",
       "      <th>gender</th>\n",
       "      <th>...</th>\n",
       "      <th>performance_rating</th>\n",
       "      <th>relationship_satisfaction</th>\n",
       "      <th>stock_option_level</th>\n",
       "      <th>total_working_years</th>\n",
       "      <th>training_times_last_year</th>\n",
       "      <th>work_life_balance</th>\n",
       "      <th>years_at_company</th>\n",
       "      <th>years_in_current_role</th>\n",
       "      <th>years_since_last_promotion</th>\n",
       "      <th>yearswithcurrmanager</th>\n",
       "    </tr>\n",
       "  </thead>\n",
       "  <tbody>\n",
       "    <tr>\n",
       "      <th>0</th>\n",
       "      <td>1</td>\n",
       "      <td>41</td>\n",
       "      <td>Yes</td>\n",
       "      <td>Travel_Rarely</td>\n",
       "      <td>Sales</td>\n",
       "      <td>1</td>\n",
       "      <td>2</td>\n",
       "      <td>Life Sciences</td>\n",
       "      <td>2</td>\n",
       "      <td>Female</td>\n",
       "      <td>...</td>\n",
       "      <td>3</td>\n",
       "      <td>1</td>\n",
       "      <td>0</td>\n",
       "      <td>8</td>\n",
       "      <td>0</td>\n",
       "      <td>1</td>\n",
       "      <td>6</td>\n",
       "      <td>4</td>\n",
       "      <td>0</td>\n",
       "      <td>5</td>\n",
       "    </tr>\n",
       "  </tbody>\n",
       "</table>\n",
       "<p>1 rows × 29 columns</p>\n",
       "</div>"
      ],
      "text/plain": [
       "   id  age attrition business_travel department  distance_from_home  \\\n",
       "0   1   41       Yes   Travel_Rarely      Sales                   1   \n",
       "\n",
       "   education education_field  environment_satisfaction  gender  ...  \\\n",
       "0          2   Life Sciences                         2  Female  ...   \n",
       "\n",
       "   performance_rating  relationship_satisfaction stock_option_level  \\\n",
       "0                   3                          1                  0   \n",
       "\n",
       "   total_working_years training_times_last_year  work_life_balance  \\\n",
       "0                    8                        0                  1   \n",
       "\n",
       "   years_at_company years_in_current_role  years_since_last_promotion  \\\n",
       "0                 6                     4                           0   \n",
       "\n",
       "   yearswithcurrmanager  \n",
       "0                     5  \n",
       "\n",
       "[1 rows x 29 columns]"
      ]
     },
     "execution_count": 79,
     "metadata": {},
     "output_type": "execute_result"
    }
   ],
   "source": [
    "# Confirm changes to columns\n",
    "df_to_clean.head(1)"
   ]
  },
  {
   "cell_type": "markdown",
   "id": "c06d495f-e17d-4b55-90a6-9fef553358a4",
   "metadata": {},
   "source": [
    "#### Change columns to boolean.\n",
    "- Attrition\n",
    "- Overtime"
   ]
  },
  {
   "cell_type": "code",
   "execution_count": 80,
   "id": "bb21cc1f-3f0e-4388-9f57-5db58565e654",
   "metadata": {},
   "outputs": [
    {
     "data": {
      "text/plain": [
       "0     True\n",
       "1    False\n",
       "2     True\n",
       "3    False\n",
       "4    False\n",
       "Name: attrition, dtype: bool"
      ]
     },
     "execution_count": 80,
     "metadata": {},
     "output_type": "execute_result"
    }
   ],
   "source": [
    "# Change values to boolean\n",
    "df_to_clean.attrition.replace(['Yes','No'], [True, False], inplace=True)\n",
    "\n",
    "# Check to confirm\n",
    "df_to_clean.attrition.head()"
   ]
  },
  {
   "cell_type": "code",
   "execution_count": 81,
   "id": "202f50bb-ffb1-48c8-96f6-f1342cf8d561",
   "metadata": {},
   "outputs": [
    {
     "data": {
      "text/plain": [
       "0     True\n",
       "1    False\n",
       "2     True\n",
       "3     True\n",
       "4    False\n",
       "Name: overtime, dtype: bool"
      ]
     },
     "execution_count": 81,
     "metadata": {},
     "output_type": "execute_result"
    }
   ],
   "source": [
    "# Change values to boolean\n",
    "df_to_clean.overtime.replace(['Yes','No'], [True, False], inplace=True)\n",
    "\n",
    "# Check to confirm\n",
    "df_to_clean.overtime.head()"
   ]
  },
  {
   "cell_type": "markdown",
   "id": "d458e7cd-1722-4306-b9ed-638d02ff8b9f",
   "metadata": {},
   "source": [
    "#### Changing values in some columns.\n",
    "\n",
    "The columns are\n",
    "- education\n",
    "- environment_satisfaction\n",
    "- job_involvement\n",
    "- job_satisfaction\n",
    "- performance_rating\n",
    "- relationship_satisfaction\n",
    "- work_life_balance"
   ]
  },
  {
   "cell_type": "code",
   "execution_count": 82,
   "id": "8e695030-fb03-4c6a-a628-98578cc1a273",
   "metadata": {},
   "outputs": [
    {
     "data": {
      "text/html": [
       "<div>\n",
       "<style scoped>\n",
       "    .dataframe tbody tr th:only-of-type {\n",
       "        vertical-align: middle;\n",
       "    }\n",
       "\n",
       "    .dataframe tbody tr th {\n",
       "        vertical-align: top;\n",
       "    }\n",
       "\n",
       "    .dataframe thead th {\n",
       "        text-align: right;\n",
       "    }\n",
       "</style>\n",
       "<table border=\"1\" class=\"dataframe\">\n",
       "  <thead>\n",
       "    <tr style=\"text-align: right;\">\n",
       "      <th></th>\n",
       "      <th>id</th>\n",
       "      <th>age</th>\n",
       "      <th>attrition</th>\n",
       "      <th>business_travel</th>\n",
       "      <th>department</th>\n",
       "      <th>distance_from_home</th>\n",
       "      <th>education</th>\n",
       "      <th>education_field</th>\n",
       "      <th>environment_satisfaction</th>\n",
       "      <th>gender</th>\n",
       "      <th>...</th>\n",
       "      <th>performance_rating</th>\n",
       "      <th>relationship_satisfaction</th>\n",
       "      <th>stock_option_level</th>\n",
       "      <th>total_working_years</th>\n",
       "      <th>training_times_last_year</th>\n",
       "      <th>work_life_balance</th>\n",
       "      <th>years_at_company</th>\n",
       "      <th>years_in_current_role</th>\n",
       "      <th>years_since_last_promotion</th>\n",
       "      <th>yearswithcurrmanager</th>\n",
       "    </tr>\n",
       "  </thead>\n",
       "  <tbody>\n",
       "    <tr>\n",
       "      <th>0</th>\n",
       "      <td>1</td>\n",
       "      <td>41</td>\n",
       "      <td>True</td>\n",
       "      <td>Travel_Rarely</td>\n",
       "      <td>Sales</td>\n",
       "      <td>1</td>\n",
       "      <td>2</td>\n",
       "      <td>Life Sciences</td>\n",
       "      <td>2</td>\n",
       "      <td>Female</td>\n",
       "      <td>...</td>\n",
       "      <td>3</td>\n",
       "      <td>1</td>\n",
       "      <td>0</td>\n",
       "      <td>8</td>\n",
       "      <td>0</td>\n",
       "      <td>1</td>\n",
       "      <td>6</td>\n",
       "      <td>4</td>\n",
       "      <td>0</td>\n",
       "      <td>5</td>\n",
       "    </tr>\n",
       "    <tr>\n",
       "      <th>1</th>\n",
       "      <td>2</td>\n",
       "      <td>49</td>\n",
       "      <td>False</td>\n",
       "      <td>Travel_Frequently</td>\n",
       "      <td>Research &amp; Development</td>\n",
       "      <td>8</td>\n",
       "      <td>1</td>\n",
       "      <td>Life Sciences</td>\n",
       "      <td>3</td>\n",
       "      <td>Male</td>\n",
       "      <td>...</td>\n",
       "      <td>4</td>\n",
       "      <td>4</td>\n",
       "      <td>1</td>\n",
       "      <td>10</td>\n",
       "      <td>3</td>\n",
       "      <td>3</td>\n",
       "      <td>10</td>\n",
       "      <td>7</td>\n",
       "      <td>1</td>\n",
       "      <td>7</td>\n",
       "    </tr>\n",
       "    <tr>\n",
       "      <th>2</th>\n",
       "      <td>3</td>\n",
       "      <td>37</td>\n",
       "      <td>True</td>\n",
       "      <td>Travel_Rarely</td>\n",
       "      <td>Research &amp; Development</td>\n",
       "      <td>2</td>\n",
       "      <td>2</td>\n",
       "      <td>Other</td>\n",
       "      <td>4</td>\n",
       "      <td>Male</td>\n",
       "      <td>...</td>\n",
       "      <td>3</td>\n",
       "      <td>2</td>\n",
       "      <td>0</td>\n",
       "      <td>7</td>\n",
       "      <td>3</td>\n",
       "      <td>3</td>\n",
       "      <td>0</td>\n",
       "      <td>0</td>\n",
       "      <td>0</td>\n",
       "      <td>0</td>\n",
       "    </tr>\n",
       "    <tr>\n",
       "      <th>3</th>\n",
       "      <td>4</td>\n",
       "      <td>33</td>\n",
       "      <td>False</td>\n",
       "      <td>Travel_Frequently</td>\n",
       "      <td>Research &amp; Development</td>\n",
       "      <td>3</td>\n",
       "      <td>4</td>\n",
       "      <td>Life Sciences</td>\n",
       "      <td>4</td>\n",
       "      <td>Female</td>\n",
       "      <td>...</td>\n",
       "      <td>3</td>\n",
       "      <td>3</td>\n",
       "      <td>0</td>\n",
       "      <td>8</td>\n",
       "      <td>3</td>\n",
       "      <td>3</td>\n",
       "      <td>8</td>\n",
       "      <td>7</td>\n",
       "      <td>3</td>\n",
       "      <td>0</td>\n",
       "    </tr>\n",
       "    <tr>\n",
       "      <th>4</th>\n",
       "      <td>5</td>\n",
       "      <td>27</td>\n",
       "      <td>False</td>\n",
       "      <td>Travel_Rarely</td>\n",
       "      <td>Research &amp; Development</td>\n",
       "      <td>2</td>\n",
       "      <td>1</td>\n",
       "      <td>Medical</td>\n",
       "      <td>1</td>\n",
       "      <td>Male</td>\n",
       "      <td>...</td>\n",
       "      <td>3</td>\n",
       "      <td>4</td>\n",
       "      <td>1</td>\n",
       "      <td>6</td>\n",
       "      <td>3</td>\n",
       "      <td>3</td>\n",
       "      <td>2</td>\n",
       "      <td>2</td>\n",
       "      <td>2</td>\n",
       "      <td>2</td>\n",
       "    </tr>\n",
       "  </tbody>\n",
       "</table>\n",
       "<p>5 rows × 29 columns</p>\n",
       "</div>"
      ],
      "text/plain": [
       "   id  age  attrition    business_travel              department  \\\n",
       "0   1   41       True      Travel_Rarely                   Sales   \n",
       "1   2   49      False  Travel_Frequently  Research & Development   \n",
       "2   3   37       True      Travel_Rarely  Research & Development   \n",
       "3   4   33      False  Travel_Frequently  Research & Development   \n",
       "4   5   27      False      Travel_Rarely  Research & Development   \n",
       "\n",
       "   distance_from_home  education education_field  environment_satisfaction  \\\n",
       "0                   1          2   Life Sciences                         2   \n",
       "1                   8          1   Life Sciences                         3   \n",
       "2                   2          2           Other                         4   \n",
       "3                   3          4   Life Sciences                         4   \n",
       "4                   2          1         Medical                         1   \n",
       "\n",
       "   gender  ...  performance_rating  relationship_satisfaction  \\\n",
       "0  Female  ...                   3                          1   \n",
       "1    Male  ...                   4                          4   \n",
       "2    Male  ...                   3                          2   \n",
       "3  Female  ...                   3                          3   \n",
       "4    Male  ...                   3                          4   \n",
       "\n",
       "  stock_option_level  total_working_years training_times_last_year  \\\n",
       "0                  0                    8                        0   \n",
       "1                  1                   10                        3   \n",
       "2                  0                    7                        3   \n",
       "3                  0                    8                        3   \n",
       "4                  1                    6                        3   \n",
       "\n",
       "   work_life_balance  years_at_company  years_in_current_role  \\\n",
       "0                  1                 6                      4   \n",
       "1                  3                10                      7   \n",
       "2                  3                 0                      0   \n",
       "3                  3                 8                      7   \n",
       "4                  3                 2                      2   \n",
       "\n",
       "   years_since_last_promotion  yearswithcurrmanager  \n",
       "0                           0                     5  \n",
       "1                           1                     7  \n",
       "2                           0                     0  \n",
       "3                           3                     0  \n",
       "4                           2                     2  \n",
       "\n",
       "[5 rows x 29 columns]"
      ]
     },
     "execution_count": 82,
     "metadata": {},
     "output_type": "execute_result"
    }
   ],
   "source": [
    "# Copying clean data to change the values, we might need the original values of the data\n",
    "df_change_values = df_to_clean.copy()\n",
    "\n",
    "# Confirm copy\n",
    "df_change_values.head()"
   ]
  },
  {
   "cell_type": "markdown",
   "id": "c6df67a4-2254-4e1a-b4c4-a46c59fc92df",
   "metadata": {},
   "source": [
    "##### Change the education column values.\n",
    "\n",
    "**Education**\n",
    "- \"1\": \"Below College\",\n",
    "- \"2\": \"College\",\n",
    "- \"3\": \"Bachelor\",\n",
    "- \"4\": \"Master\",\n",
    "- \"5\": \"Doctor"
   ]
  },
  {
   "cell_type": "code",
   "execution_count": 83,
   "id": "16dec9fa-15bc-42b1-af67-2336605c9f74",
   "metadata": {},
   "outputs": [
    {
     "data": {
      "text/plain": [
       "dtype('int64')"
      ]
     },
     "execution_count": 83,
     "metadata": {},
     "output_type": "execute_result"
    }
   ],
   "source": [
    "# Change datatype of plot\n",
    "df_change_values.education.dtypes"
   ]
  },
  {
   "cell_type": "code",
   "execution_count": 84,
   "id": "0da082ab-5f0d-4022-8a10-a0a670282274",
   "metadata": {},
   "outputs": [
    {
     "data": {
      "text/plain": [
       "0          College\n",
       "1    Below College\n",
       "2          College\n",
       "3           Master\n",
       "4    Below College\n",
       "Name: education, dtype: object"
      ]
     },
     "execution_count": 84,
     "metadata": {},
     "output_type": "execute_result"
    }
   ],
   "source": [
    "# Replace values\n",
    "df_change_values.education.replace([1, 2, 3, 4, 5], ['Below College', 'College', 'Bachelor', 'Master', 'Doctor'], inplace=True)\n",
    "\n",
    "# Confirm values' replacements\n",
    "df_change_values.education.head()"
   ]
  },
  {
   "cell_type": "markdown",
   "id": "5c827e5e-de3f-412d-893e-a861393f6bca",
   "metadata": {},
   "source": [
    "##### Change the environment_satisfaction column values.\n",
    "\n",
    "**Education**\n",
    "- \"1\": \"Low\"\n",
    "- \"2\": \"Medium\"\n",
    "- \"3\": \"High\"\n",
    "- \"4\": \"Very High\""
   ]
  },
  {
   "cell_type": "code",
   "execution_count": 85,
   "id": "0f4af81e-f104-491b-a4d0-5f431b90a705",
   "metadata": {},
   "outputs": [
    {
     "data": {
      "text/plain": [
       "0       Medium\n",
       "1         High\n",
       "2    Very High\n",
       "3    Very High\n",
       "4          Low\n",
       "Name: environment_satisfaction, dtype: object"
      ]
     },
     "execution_count": 85,
     "metadata": {},
     "output_type": "execute_result"
    }
   ],
   "source": [
    "# Replace values\n",
    "df_change_values.environment_satisfaction.replace([1, 2, 3, 4], ['Low', 'Medium', 'High', 'Very High'], inplace=True)\n",
    "\n",
    "# Confirm values' replacements\n",
    "df_change_values.environment_satisfaction.head()"
   ]
  },
  {
   "cell_type": "markdown",
   "id": "ddc13548-62cb-4cff-9a3d-0d7fe7be403a",
   "metadata": {},
   "source": [
    "##### Change the job_involvement column values._\n",
    "**job_involvment**\n",
    "- \"1\": \"Low\"\n",
    "- \"2\": \"Medium\"\n",
    "- \"3\": \"High\"\n",
    "- \"4\": \"Very High\""
   ]
  },
  {
   "cell_type": "code",
   "execution_count": 86,
   "id": "52840221-249f-4d4e-9624-ffbfd9223772",
   "metadata": {},
   "outputs": [
    {
     "data": {
      "text/plain": [
       "0      High\n",
       "1    Medium\n",
       "2    Medium\n",
       "3      High\n",
       "4      High\n",
       "Name: job_involvement, dtype: object"
      ]
     },
     "execution_count": 86,
     "metadata": {},
     "output_type": "execute_result"
    }
   ],
   "source": [
    "# Replace values\n",
    "df_change_values.job_involvement.replace([1, 2, 3, 4], ['Low', 'Medium', 'High', 'Very High'], inplace=True)\n",
    "\n",
    "# Confirm values' replacements\n",
    "df_change_values.job_involvement.head()"
   ]
  },
  {
   "cell_type": "markdown",
   "id": "cd4a46ae-d79a-4aeb-bd45-725de09ddece",
   "metadata": {},
   "source": [
    "##### Change the job_satisfaction column values.\n",
    "\n",
    "**job_satisfaction**\n",
    "- \"1\": \"Low\"\n",
    "- \"2\": \"Medium\"\n",
    "- \"3\": \"High\"\n",
    "- \"4\": \"Very High\""
   ]
  },
  {
   "cell_type": "code",
   "execution_count": 87,
   "id": "447a6aad-abad-4de7-ba57-7afd3ad9bf7a",
   "metadata": {},
   "outputs": [
    {
     "data": {
      "text/plain": [
       "0    Very High\n",
       "1       Medium\n",
       "2         High\n",
       "3         High\n",
       "4       Medium\n",
       "Name: job_satisfaction, dtype: object"
      ]
     },
     "execution_count": 87,
     "metadata": {},
     "output_type": "execute_result"
    }
   ],
   "source": [
    "# Replace values\n",
    "df_change_values.job_satisfaction.replace([1, 2, 3, 4], ['Low', 'Medium', 'High', 'Very High'], inplace=True)\n",
    "\n",
    "# Confirm values' replacements\n",
    "df_change_values.job_satisfaction.head()"
   ]
  },
  {
   "cell_type": "markdown",
   "id": "634512d7-e3f8-420c-b04b-9e0beb341a6a",
   "metadata": {},
   "source": [
    "##### Change the performance_rating column values.\n",
    "\n",
    "**performance_rating**\n",
    "- \"1\": \"Low\"\n",
    "- \"2\": \"Good\"\n",
    "- \"3\": \"Excellent\"\n",
    "- \"4\": \"Outstanding\""
   ]
  },
  {
   "cell_type": "code",
   "execution_count": 88,
   "id": "f5595f4c-83c6-40b0-a159-0821be75fd94",
   "metadata": {},
   "outputs": [
    {
     "data": {
      "text/plain": [
       "0     Excellent\n",
       "1    Oustanding\n",
       "2     Excellent\n",
       "3     Excellent\n",
       "4     Excellent\n",
       "Name: performance_rating, dtype: object"
      ]
     },
     "execution_count": 88,
     "metadata": {},
     "output_type": "execute_result"
    }
   ],
   "source": [
    "# Replace values\n",
    "df_change_values.performance_rating.replace([1, 2, 3, 4], ['Low', 'Good', 'Excellent', 'Oustanding'], inplace=True)\n",
    "\n",
    "# Confirm values' replacements\n",
    "df_change_values.performance_rating.head()"
   ]
  },
  {
   "cell_type": "markdown",
   "id": "2c725919-f755-4327-a577-2a829a7e85e3",
   "metadata": {},
   "source": [
    "##### Change the relationship_satisfaction column values.\n",
    "\n",
    "**relationship_satisfaction**\n",
    "- \"1\": \"Low\"\n",
    "- \"2\": \"Good\"\n",
    "- \"3\": \"Excellent\"\n",
    "- \"4\": \"Outstanding\""
   ]
  },
  {
   "cell_type": "code",
   "execution_count": 89,
   "id": "8af4e22c-3935-48d9-960e-8a4432ccc010",
   "metadata": {},
   "outputs": [
    {
     "data": {
      "text/plain": [
       "864           Low\n",
       "825     Excellent\n",
       "347           Low\n",
       "1078    Excellent\n",
       "128     Excellent\n",
       "Name: relationship_satisfaction, dtype: object"
      ]
     },
     "execution_count": 89,
     "metadata": {},
     "output_type": "execute_result"
    }
   ],
   "source": [
    "#  Replace values\n",
    "df_change_values.relationship_satisfaction.replace([1, 2, 3, 4], ['Low', 'Good', 'Excellent', 'Oustanding'], inplace=True)\n",
    "\n",
    "# Confirm values' replacements\n",
    "df_change_values.relationship_satisfaction.sample(5)"
   ]
  },
  {
   "cell_type": "markdown",
   "id": "ceb0e5bd-7278-400b-8aa0-8357f0be40b1",
   "metadata": {
    "tags": []
   },
   "source": [
    "##### Change the work_life_balance column values.\n",
    "\n",
    "**work_life_balance**\n",
    "- \"1\": \"Low\"\n",
    "- \"2\": \"Good\"\n",
    "- \"3\": \"Excellent\"\n",
    "- \"4\": \"Outstanding\""
   ]
  },
  {
   "cell_type": "code",
   "execution_count": 90,
   "id": "a3115c15-b11a-4e60-ba1f-268cc6218e1e",
   "metadata": {},
   "outputs": [
    {
     "data": {
      "text/plain": [
       "1215      Best\n",
       "1178    Better\n",
       "1025    Better\n",
       "106       Good\n",
       "468     Better\n",
       "Name: work_life_balance, dtype: object"
      ]
     },
     "execution_count": 90,
     "metadata": {},
     "output_type": "execute_result"
    }
   ],
   "source": [
    "# Replace values\n",
    "df_change_values.work_life_balance.replace([1, 2, 3, 4], ['Bad', 'Good', 'Better', 'Best'], inplace=True)\n",
    "\n",
    "# Confirm values' replacements\n",
    "df_change_values.work_life_balance.sample(5)"
   ]
  },
  {
   "cell_type": "markdown",
   "id": "f91d4f84-020c-45e4-b681-4bab7c8092e1",
   "metadata": {
    "tags": []
   },
   "source": [
    "<a id='eda'></a>\n",
    "<h2 style=\"text-align: center;\">Exploratory Data Analysis</h2>\n",
    "\n",
    "In this section, I explored the data with the aim of answering the posed questions.\n",
    "The analysis will centre about the question posited at the introduction section."
   ]
  },
  {
   "cell_type": "markdown",
   "id": "bfdd846a-4b83-43aa-8105-b7e62fd5b165",
   "metadata": {},
   "source": [
    "#### Question 1. What are the three factors behind employee attrition?\n",
    "\n",
    "This question means we should get the three main factors behind employee attrition."
   ]
  },
  {
   "cell_type": "code",
   "execution_count": 91,
   "id": "eca7eee8-59d5-43f0-9a1c-c1ee42b1ff1f",
   "metadata": {},
   "outputs": [
    {
     "data": {
      "text/html": [
       "<div>\n",
       "<style scoped>\n",
       "    .dataframe tbody tr th:only-of-type {\n",
       "        vertical-align: middle;\n",
       "    }\n",
       "\n",
       "    .dataframe tbody tr th {\n",
       "        vertical-align: top;\n",
       "    }\n",
       "\n",
       "    .dataframe thead th {\n",
       "        text-align: right;\n",
       "    }\n",
       "</style>\n",
       "<table border=\"1\" class=\"dataframe\">\n",
       "  <thead>\n",
       "    <tr style=\"text-align: right;\">\n",
       "      <th></th>\n",
       "      <th>id</th>\n",
       "      <th>age</th>\n",
       "      <th>attrition</th>\n",
       "      <th>business_travel</th>\n",
       "      <th>department</th>\n",
       "      <th>distance_from_home</th>\n",
       "      <th>education</th>\n",
       "      <th>education_field</th>\n",
       "      <th>environment_satisfaction</th>\n",
       "      <th>gender</th>\n",
       "      <th>...</th>\n",
       "      <th>performance_rating</th>\n",
       "      <th>relationship_satisfaction</th>\n",
       "      <th>stock_option_level</th>\n",
       "      <th>total_working_years</th>\n",
       "      <th>training_times_last_year</th>\n",
       "      <th>work_life_balance</th>\n",
       "      <th>years_at_company</th>\n",
       "      <th>years_in_current_role</th>\n",
       "      <th>years_since_last_promotion</th>\n",
       "      <th>yearswithcurrmanager</th>\n",
       "    </tr>\n",
       "  </thead>\n",
       "  <tbody>\n",
       "    <tr>\n",
       "      <th>0</th>\n",
       "      <td>1</td>\n",
       "      <td>41</td>\n",
       "      <td>True</td>\n",
       "      <td>Travel_Rarely</td>\n",
       "      <td>Sales</td>\n",
       "      <td>1</td>\n",
       "      <td>College</td>\n",
       "      <td>Life Sciences</td>\n",
       "      <td>Medium</td>\n",
       "      <td>Female</td>\n",
       "      <td>...</td>\n",
       "      <td>Excellent</td>\n",
       "      <td>Low</td>\n",
       "      <td>0</td>\n",
       "      <td>8</td>\n",
       "      <td>0</td>\n",
       "      <td>Bad</td>\n",
       "      <td>6</td>\n",
       "      <td>4</td>\n",
       "      <td>0</td>\n",
       "      <td>5</td>\n",
       "    </tr>\n",
       "    <tr>\n",
       "      <th>1</th>\n",
       "      <td>2</td>\n",
       "      <td>49</td>\n",
       "      <td>False</td>\n",
       "      <td>Travel_Frequently</td>\n",
       "      <td>Research &amp; Development</td>\n",
       "      <td>8</td>\n",
       "      <td>Below College</td>\n",
       "      <td>Life Sciences</td>\n",
       "      <td>High</td>\n",
       "      <td>Male</td>\n",
       "      <td>...</td>\n",
       "      <td>Oustanding</td>\n",
       "      <td>Oustanding</td>\n",
       "      <td>1</td>\n",
       "      <td>10</td>\n",
       "      <td>3</td>\n",
       "      <td>Better</td>\n",
       "      <td>10</td>\n",
       "      <td>7</td>\n",
       "      <td>1</td>\n",
       "      <td>7</td>\n",
       "    </tr>\n",
       "  </tbody>\n",
       "</table>\n",
       "<p>2 rows × 29 columns</p>\n",
       "</div>"
      ],
      "text/plain": [
       "   id  age  attrition    business_travel              department  \\\n",
       "0   1   41       True      Travel_Rarely                   Sales   \n",
       "1   2   49      False  Travel_Frequently  Research & Development   \n",
       "\n",
       "   distance_from_home      education education_field environment_satisfaction  \\\n",
       "0                   1        College   Life Sciences                   Medium   \n",
       "1                   8  Below College   Life Sciences                     High   \n",
       "\n",
       "   gender  ... performance_rating  relationship_satisfaction  \\\n",
       "0  Female  ...          Excellent                        Low   \n",
       "1    Male  ...         Oustanding                 Oustanding   \n",
       "\n",
       "  stock_option_level total_working_years training_times_last_year  \\\n",
       "0                  0                   8                        0   \n",
       "1                  1                  10                        3   \n",
       "\n",
       "   work_life_balance  years_at_company  years_in_current_role  \\\n",
       "0                Bad                 6                      4   \n",
       "1             Better                10                      7   \n",
       "\n",
       "   years_since_last_promotion yearswithcurrmanager  \n",
       "0                           0                    5  \n",
       "1                           1                    7  \n",
       "\n",
       "[2 rows x 29 columns]"
      ]
     },
     "execution_count": 91,
     "metadata": {},
     "output_type": "execute_result"
    }
   ],
   "source": [
    "# Make copy of data to make the variable name more descriptive\n",
    "df_analysis = df_change_values.copy()\n",
    "\n",
    "# Check\n",
    "df_analysis.head(2)"
   ]
  },
  {
   "cell_type": "markdown",
   "id": "cb275b1e-f7b9-4fe5-8bdc-d5e4ba992a70",
   "metadata": {},
   "source": [
    "To get the factors that affect employees' attrition, we will use the correlation which means we need to use numerical values. \n",
    "\n",
    "The values of the `attition` column will be changed to numerical."
   ]
  },
  {
   "cell_type": "code",
   "execution_count": 92,
   "id": "9294f4fb-e29b-4778-941b-51b980b9e6ac",
   "metadata": {},
   "outputs": [
    {
     "data": {
      "text/html": [
       "<div>\n",
       "<style scoped>\n",
       "    .dataframe tbody tr th:only-of-type {\n",
       "        vertical-align: middle;\n",
       "    }\n",
       "\n",
       "    .dataframe tbody tr th {\n",
       "        vertical-align: top;\n",
       "    }\n",
       "\n",
       "    .dataframe thead th {\n",
       "        text-align: right;\n",
       "    }\n",
       "</style>\n",
       "<table border=\"1\" class=\"dataframe\">\n",
       "  <thead>\n",
       "    <tr style=\"text-align: right;\">\n",
       "      <th></th>\n",
       "      <th>id</th>\n",
       "      <th>age</th>\n",
       "      <th>attrition</th>\n",
       "      <th>business_travel</th>\n",
       "      <th>department</th>\n",
       "      <th>distance_from_home</th>\n",
       "      <th>education</th>\n",
       "      <th>education_field</th>\n",
       "      <th>environment_satisfaction</th>\n",
       "      <th>gender</th>\n",
       "      <th>...</th>\n",
       "      <th>performance_rating</th>\n",
       "      <th>relationship_satisfaction</th>\n",
       "      <th>stock_option_level</th>\n",
       "      <th>total_working_years</th>\n",
       "      <th>training_times_last_year</th>\n",
       "      <th>work_life_balance</th>\n",
       "      <th>years_at_company</th>\n",
       "      <th>years_in_current_role</th>\n",
       "      <th>years_since_last_promotion</th>\n",
       "      <th>yearswithcurrmanager</th>\n",
       "    </tr>\n",
       "  </thead>\n",
       "  <tbody>\n",
       "    <tr>\n",
       "      <th>0</th>\n",
       "      <td>1</td>\n",
       "      <td>41</td>\n",
       "      <td>True</td>\n",
       "      <td>Travel_Rarely</td>\n",
       "      <td>Sales</td>\n",
       "      <td>1</td>\n",
       "      <td>2</td>\n",
       "      <td>Life Sciences</td>\n",
       "      <td>2</td>\n",
       "      <td>Female</td>\n",
       "      <td>...</td>\n",
       "      <td>3</td>\n",
       "      <td>1</td>\n",
       "      <td>0</td>\n",
       "      <td>8</td>\n",
       "      <td>0</td>\n",
       "      <td>1</td>\n",
       "      <td>6</td>\n",
       "      <td>4</td>\n",
       "      <td>0</td>\n",
       "      <td>5</td>\n",
       "    </tr>\n",
       "    <tr>\n",
       "      <th>1</th>\n",
       "      <td>2</td>\n",
       "      <td>49</td>\n",
       "      <td>False</td>\n",
       "      <td>Travel_Frequently</td>\n",
       "      <td>Research &amp; Development</td>\n",
       "      <td>8</td>\n",
       "      <td>1</td>\n",
       "      <td>Life Sciences</td>\n",
       "      <td>3</td>\n",
       "      <td>Male</td>\n",
       "      <td>...</td>\n",
       "      <td>4</td>\n",
       "      <td>4</td>\n",
       "      <td>1</td>\n",
       "      <td>10</td>\n",
       "      <td>3</td>\n",
       "      <td>3</td>\n",
       "      <td>10</td>\n",
       "      <td>7</td>\n",
       "      <td>1</td>\n",
       "      <td>7</td>\n",
       "    </tr>\n",
       "  </tbody>\n",
       "</table>\n",
       "<p>2 rows × 29 columns</p>\n",
       "</div>"
      ],
      "text/plain": [
       "   id  age  attrition    business_travel              department  \\\n",
       "0   1   41       True      Travel_Rarely                   Sales   \n",
       "1   2   49      False  Travel_Frequently  Research & Development   \n",
       "\n",
       "   distance_from_home  education education_field  environment_satisfaction  \\\n",
       "0                   1          2   Life Sciences                         2   \n",
       "1                   8          1   Life Sciences                         3   \n",
       "\n",
       "   gender  ...  performance_rating  relationship_satisfaction  \\\n",
       "0  Female  ...                   3                          1   \n",
       "1    Male  ...                   4                          4   \n",
       "\n",
       "  stock_option_level  total_working_years training_times_last_year  \\\n",
       "0                  0                    8                        0   \n",
       "1                  1                   10                        3   \n",
       "\n",
       "   work_life_balance  years_at_company  years_in_current_role  \\\n",
       "0                  1                 6                      4   \n",
       "1                  3                10                      7   \n",
       "\n",
       "   years_since_last_promotion  yearswithcurrmanager  \n",
       "0                           0                     5  \n",
       "1                           1                     7  \n",
       "\n",
       "[2 rows x 29 columns]"
      ]
     },
     "execution_count": 92,
     "metadata": {},
     "output_type": "execute_result"
    }
   ],
   "source": [
    "# Copying from df_to_clean, as that have numerical values before it was cleaned.\n",
    "df_numerical = df_to_clean.copy()\n",
    "df_numerical.head(2)"
   ]
  },
  {
   "cell_type": "markdown",
   "id": "5c003ddb-8e09-4454-9364-60d6fe73d8d0",
   "metadata": {},
   "source": [
    "After copying the data, the next is to change the attrition column to numbers.\n",
    "- True will be changed to 1,\n",
    "- False will be changed to 0."
   ]
  },
  {
   "cell_type": "code",
   "execution_count": 93,
   "id": "58b69f7d-07ce-433c-a915-840f1e32725c",
   "metadata": {},
   "outputs": [
    {
     "data": {
      "text/plain": [
       "0    1\n",
       "1    0\n",
       "2    1\n",
       "3    0\n",
       "4    0\n",
       "Name: attrition, dtype: int32"
      ]
     },
     "execution_count": 93,
     "metadata": {},
     "output_type": "execute_result"
    }
   ],
   "source": [
    "# Changing attrition column to 1s and 0s.\n",
    "df_numerical['attrition'] = df_numerical['attrition'].astype(int)\n",
    "df_numerical.attrition.head()"
   ]
  },
  {
   "cell_type": "markdown",
   "id": "85fa9d9a-14fc-4220-8c8c-b1b855534659",
   "metadata": {},
   "source": [
    "Now, to answer the question, a heatmap that lists the correlations between the numerical values will be used. The three variables that correlates most with attrition are the three values behind employee attrition."
   ]
  },
  {
   "cell_type": "code",
   "execution_count": 94,
   "id": "5c4c25e5-c2de-401c-a042-a69c50315f8e",
   "metadata": {},
   "outputs": [
    {
     "data": {
      "image/png": "[encoded data removed]",
      "text/plain": [
       "<Figure size 1600x1200 with 2 Axes>"
      ]
     },
     "metadata": {},
     "output_type": "display_data"
    }
   ],
   "source": [
    "# get the correlation of quantitative values in the dataset\n",
    "corr = df_numerical.corr()\n",
    "\n",
    "# use numpy function to mask the data to create a matrix of booleans\n",
    "ones = np.ones_like(corr, dtype='bool') # by default returns ones for all the data\n",
    "\n",
    "# use another numpy function to get just the upper triangle of the boolean array\n",
    "mask = np.triu(ones)\n",
    "\n",
    "# Plot a customized heatmap of correlations for all numeric values\n",
    "fig, ax = plt.subplots(figsize=(16,12))\n",
    "sns.heatmap(corr, mask=mask, annot=True, fmt=\".2f\", cmap='PuBuGn', linewidths=.6, cbar_kws={'shrink':.9})\n",
    "ax.xaxis.tick_bottom()\n",
    "plt.title(\"Correlations heatmap for Attrition\", fontdict={'fontsize': 18}, loc='center') # Title, fontsize and location of title.\n",
    "plt.show();"
   ]
  },
  {
   "cell_type": "markdown",
   "id": "226010c4-39ea-478f-ae3a-e9f1e2e23b31",
   "metadata": {},
   "source": [
    "Some observations with respect to the attrition column, \n",
    "- Overtime is most positively correlated with attrition with 0.25\n",
    "- Distance from home is the second most positively correlated with 0.08\n",
    "- The third is number of companies worked with the value of 0.04.\n",
    "\n",
    "From the above it can be said that the three factors mostly affecting attrition from the data given are\n",
    "- Overtime\n",
    "- Distance from home\n",
    "- Number of companies worked."
   ]
  },
  {
   "cell_type": "markdown",
   "id": "f2c31797-5506-4799-8401-6fc68c1bf2f3",
   "metadata": {},
   "source": [
    "#### What is the Relationship Between Education and Monthly Income?"
   ]
  },
  {
   "cell_type": "code",
   "execution_count": 95,
   "id": "e3129bd9-8b08-4501-89f3-b968f3c70c4e",
   "metadata": {},
   "outputs": [
    {
     "data": {
      "text/plain": [
       "array(['College', 'Below College', 'Master', 'Bachelor', 'Doctor'],\n",
       "      dtype=object)"
      ]
     },
     "execution_count": 95,
     "metadata": {},
     "output_type": "execute_result"
    }
   ],
   "source": [
    "# Get the unique values of the education column.\n",
    "df_analysis.education.unique()"
   ]
  },
  {
   "cell_type": "markdown",
   "id": "909545a8-45a0-4cfa-b01a-272ae77db73f",
   "metadata": {},
   "source": [
    "The next step is to check the average monthly income of the employees with the different educational degrees."
   ]
  },
  {
   "cell_type": "code",
   "execution_count": 96,
   "id": "f6047e3f-7ea7-43e8-b570-01b6c4e4b212",
   "metadata": {},
   "outputs": [
    {
     "data": {
      "text/plain": [
       "5640.570588235294"
      ]
     },
     "execution_count": 96,
     "metadata": {},
     "output_type": "execute_result"
    }
   ],
   "source": [
    "# Get the average income of employees with education of below college.\n",
    "below_college_avg_income = df_analysis.query(\"education == 'Below College'\")['monthly_income'].mean()\n",
    "below_college_avg_income"
   ]
  },
  {
   "cell_type": "code",
   "execution_count": 97,
   "id": "0e20e5af-c915-4bb4-8e97-b54c5c76de1f",
   "metadata": {},
   "outputs": [
    {
     "data": {
      "text/plain": [
       "6226.645390070922"
      ]
     },
     "execution_count": 97,
     "metadata": {},
     "output_type": "execute_result"
    }
   ],
   "source": [
    "# Get the average income of employees with college education.\n",
    "college_avg_income = df_analysis.query(\"education == 'College'\")['monthly_income'].mean()\n",
    "college_avg_income"
   ]
  },
  {
   "cell_type": "code",
   "execution_count": 98,
   "id": "c6863e87-d022-40d0-b1ef-433d3b47d692",
   "metadata": {},
   "outputs": [
    {
     "data": {
      "text/plain": [
       "6517.263986013986"
      ]
     },
     "execution_count": 98,
     "metadata": {},
     "output_type": "execute_result"
    }
   ],
   "source": [
    "# Get the average income of employees with a Bachelor Degree.\n",
    "bachelor_avg_income = df_analysis.query(\"education == 'Bachelor'\")['monthly_income'].mean()\n",
    "bachelor_avg_income"
   ]
  },
  {
   "cell_type": "code",
   "execution_count": 99,
   "id": "f2ed0216-1339-4003-88e4-bd5e20960795",
   "metadata": {},
   "outputs": [
    {
     "data": {
      "text/plain": [
       "6832.402010050251"
      ]
     },
     "execution_count": 99,
     "metadata": {},
     "output_type": "execute_result"
    }
   ],
   "source": [
    "# Get the average income of employees with a Master Degree.\n",
    "master_avg_income = df_analysis.query(\"education == 'Master'\")['monthly_income'].mean()\n",
    "master_avg_income"
   ]
  },
  {
   "cell_type": "code",
   "execution_count": 100,
   "id": "f08e6499-8996-45f8-84d6-c941108aa144",
   "metadata": {},
   "outputs": [
    {
     "data": {
      "text/plain": [
       "8277.645833333334"
      ]
     },
     "execution_count": 100,
     "metadata": {},
     "output_type": "execute_result"
    }
   ],
   "source": [
    "# Get the average income of employees with a Doctorate degree.\n",
    "doctor_avg_income = df_analysis.query(\"education == 'Doctor'\")['monthly_income'].mean()\n",
    "doctor_avg_income"
   ]
  },
  {
   "cell_type": "markdown",
   "id": "84e90dbd-3af9-4c78-9da0-acfe123dc28f",
   "metadata": {},
   "source": [
    "From the above cells, the monthly income of the employees increases as the degree increases. \n",
    "\n",
    "To confirm this, it will be nice to view it in a chart."
   ]
  },
  {
   "cell_type": "code",
   "execution_count": 101,
   "id": "d5dc1013-951a-4846-a1ec-750bfae4a0bb",
   "metadata": {},
   "outputs": [
    {
     "data": {
      "image/png": "[encoded data removed]",
      "text/plain": [
       "<Figure size 640x480 with 1 Axes>"
      ]
     },
     "metadata": {},
     "output_type": "display_data"
    }
   ],
   "source": [
    "# Order of bar plot\n",
    "plot_order = ['Below College', 'College', 'Bachelor', 'Master', 'Doctor']\n",
    "\n",
    "# Plot the barplot of education and monthly income\n",
    "sns.barplot(x = 'education', y = 'monthly_income', data = df_analysis, order=plot_order)\n",
    "\n",
    "# Set figure size\n",
    "sns.set(rc={'figure.figsize':(12,6)})\n",
    "plt.title(\"Relationship between Education Level and Monthly Income\",fontsize=15) # Sets the title\n",
    "plt.xlabel('Education Level',fontsize=13) # Sets the x-axis label and the fontsize of the label\n",
    "plt.ylabel(\"Monthly Income\",fontsize= 13); # Sets the y-axis label and the fontsize of the label"
   ]
  },
  {
   "cell_type": "markdown",
   "id": "172ff29a-cdc0-413d-9642-172d27455330",
   "metadata": {},
   "source": [
    "From the above, we can see that the higher the level of education, the higher the monthly income of an employee.\n",
    "\n",
    "Let's check how this affects the attrition of an employee."
   ]
  },
  {
   "cell_type": "code",
   "execution_count": 102,
   "id": "2cba2c6d-7e9d-461f-b1b7-7c7f01fb2bca",
   "metadata": {},
   "outputs": [
    {
     "data": {
      "image/png": "[encoded data removed]",
      "text/plain": [
       "<Figure size 1200x600 with 1 Axes>"
      ]
     },
     "metadata": {},
     "output_type": "display_data"
    }
   ],
   "source": [
    "# Order of the barplot\n",
    "plot_order = ['Below College', 'College', 'Bachelor', 'Master', 'Doctor']\n",
    "\n",
    "# Plot a seaborn bar chart\n",
    "sns.barplot(x = 'education', y = 'monthly_income', hue = 'attrition',data = df_analysis, order=plot_order)\n",
    "sns.set(rc={'figure.figsize':(16,8)}) # Sets the figure size\n",
    "plt.title(\"Relationship between Education Level and Monthly Income\",fontsize=15) # Sets the title and fontsize of the title\n",
    "plt.xlabel('Education Level',fontsize=13) # Sets the x-axis label and the fontsize of the label\n",
    "plt.ylabel(\"Monthly Income\",fontsize= 13); # Sets the y-axis label and the fontsize of the label"
   ]
  },
  {
   "cell_type": "markdown",
   "id": "26242266-3732-4554-b3c0-63b7f41fe2e3",
   "metadata": {},
   "source": [
    "From the chart above, it is seen that the monthly income of those that left the company is lower than those that stayed at the company in terms of their degree. This might be a factor in those leaving.\n",
    "\n",
    "From the charts above, \n",
    "- The monthly income reflects the level of degree of an employee.\n",
    "- The higher the degree, the higher the monthly income.\n",
    "- The monthly income of those that left are lower than the monthly income of their colleagues with the same degree.\n",
    "\n",
    "**Conclusion.**  \n",
    "- The monthly income reflects the level of degree of an employee. The higher the degree, the higher the monthly incom  \n",
    "- The monthly income of those that left are lower than the monthly income of their colleagues with the same degree.\n",
    "\n",
    "**Limitation**  \n",
    "- The count of those that stayed are more than 5 times those that left.\n",
    "- There might be other factors that lead to some employees leaving."
   ]
  },
  {
   "cell_type": "markdown",
   "id": "bc958844-ba86-4af1-ad80-da9d1444b980",
   "metadata": {},
   "source": [
    "#### What is the effect of age on Attrition?"
   ]
  },
  {
   "cell_type": "code",
   "execution_count": 103,
   "id": "6fda06f1-27eb-432d-a097-b49c979b02bd",
   "metadata": {},
   "outputs": [
    {
     "data": {
      "text/plain": [
       "count    1233.000000\n",
       "mean       37.561233\n",
       "std         8.888360\n",
       "min        18.000000\n",
       "25%        31.000000\n",
       "50%        36.000000\n",
       "75%        43.000000\n",
       "max        60.000000\n",
       "Name: age, dtype: float64"
      ]
     },
     "execution_count": 103,
     "metadata": {},
     "output_type": "execute_result"
    }
   ],
   "source": [
    "# Summary statistic of those that stayed\n",
    "age_stayed = df_analysis.query('attrition == False')['age'].describe()\n",
    "age_stayed"
   ]
  },
  {
   "cell_type": "markdown",
   "id": "fb2619ea-829d-4293-bc91-dc9c76145884",
   "metadata": {},
   "source": [
    "Looking at the summary statistics of both those that stayed and left, \n",
    "- One notable thing is that those that stayed are more than 5 times those that left."
   ]
  },
  {
   "cell_type": "code",
   "execution_count": 104,
   "id": "41f41290-ca94-4a58-8f95-55c6187ebacf",
   "metadata": {},
   "outputs": [
    {
     "data": {
      "text/html": [
       "<div>\n",
       "<style scoped>\n",
       "    .dataframe tbody tr th:only-of-type {\n",
       "        vertical-align: middle;\n",
       "    }\n",
       "\n",
       "    .dataframe tbody tr th {\n",
       "        vertical-align: top;\n",
       "    }\n",
       "\n",
       "    .dataframe thead th {\n",
       "        text-align: right;\n",
       "    }\n",
       "</style>\n",
       "<table border=\"1\" class=\"dataframe\">\n",
       "  <thead>\n",
       "    <tr style=\"text-align: right;\">\n",
       "      <th></th>\n",
       "      <th>id</th>\n",
       "      <th>age</th>\n",
       "      <th>attrition</th>\n",
       "      <th>business_travel</th>\n",
       "      <th>department</th>\n",
       "      <th>distance_from_home</th>\n",
       "      <th>education</th>\n",
       "      <th>education_field</th>\n",
       "      <th>environment_satisfaction</th>\n",
       "      <th>gender</th>\n",
       "      <th>...</th>\n",
       "      <th>performance_rating</th>\n",
       "      <th>relationship_satisfaction</th>\n",
       "      <th>stock_option_level</th>\n",
       "      <th>total_working_years</th>\n",
       "      <th>training_times_last_year</th>\n",
       "      <th>work_life_balance</th>\n",
       "      <th>years_at_company</th>\n",
       "      <th>years_in_current_role</th>\n",
       "      <th>years_since_last_promotion</th>\n",
       "      <th>yearswithcurrmanager</th>\n",
       "    </tr>\n",
       "  </thead>\n",
       "  <tbody>\n",
       "    <tr>\n",
       "      <th>1</th>\n",
       "      <td>2</td>\n",
       "      <td>49</td>\n",
       "      <td>False</td>\n",
       "      <td>Travel_Frequently</td>\n",
       "      <td>Research &amp; Development</td>\n",
       "      <td>8</td>\n",
       "      <td>Below College</td>\n",
       "      <td>Life Sciences</td>\n",
       "      <td>High</td>\n",
       "      <td>Male</td>\n",
       "      <td>...</td>\n",
       "      <td>Oustanding</td>\n",
       "      <td>Oustanding</td>\n",
       "      <td>1</td>\n",
       "      <td>10</td>\n",
       "      <td>3</td>\n",
       "      <td>Better</td>\n",
       "      <td>10</td>\n",
       "      <td>7</td>\n",
       "      <td>1</td>\n",
       "      <td>7</td>\n",
       "    </tr>\n",
       "    <tr>\n",
       "      <th>3</th>\n",
       "      <td>4</td>\n",
       "      <td>33</td>\n",
       "      <td>False</td>\n",
       "      <td>Travel_Frequently</td>\n",
       "      <td>Research &amp; Development</td>\n",
       "      <td>3</td>\n",
       "      <td>Master</td>\n",
       "      <td>Life Sciences</td>\n",
       "      <td>Very High</td>\n",
       "      <td>Female</td>\n",
       "      <td>...</td>\n",
       "      <td>Excellent</td>\n",
       "      <td>Excellent</td>\n",
       "      <td>0</td>\n",
       "      <td>8</td>\n",
       "      <td>3</td>\n",
       "      <td>Better</td>\n",
       "      <td>8</td>\n",
       "      <td>7</td>\n",
       "      <td>3</td>\n",
       "      <td>0</td>\n",
       "    </tr>\n",
       "  </tbody>\n",
       "</table>\n",
       "<p>2 rows × 29 columns</p>\n",
       "</div>"
      ],
      "text/plain": [
       "   id  age  attrition    business_travel              department  \\\n",
       "1   2   49      False  Travel_Frequently  Research & Development   \n",
       "3   4   33      False  Travel_Frequently  Research & Development   \n",
       "\n",
       "   distance_from_home      education education_field environment_satisfaction  \\\n",
       "1                   8  Below College   Life Sciences                     High   \n",
       "3                   3         Master   Life Sciences                Very High   \n",
       "\n",
       "   gender  ... performance_rating  relationship_satisfaction  \\\n",
       "1    Male  ...         Oustanding                 Oustanding   \n",
       "3  Female  ...          Excellent                  Excellent   \n",
       "\n",
       "  stock_option_level total_working_years training_times_last_year  \\\n",
       "1                  1                  10                        3   \n",
       "3                  0                   8                        3   \n",
       "\n",
       "   work_life_balance  years_at_company  years_in_current_role  \\\n",
       "1             Better                10                      7   \n",
       "3             Better                 8                      7   \n",
       "\n",
       "   years_since_last_promotion yearswithcurrmanager  \n",
       "1                           1                    7  \n",
       "3                           3                    0  \n",
       "\n",
       "[2 rows x 29 columns]"
      ]
     },
     "execution_count": 104,
     "metadata": {},
     "output_type": "execute_result"
    }
   ],
   "source": [
    "df_stayed = df_analysis.query('attrition == False')\n",
    "df_stayed.head(2)"
   ]
  },
  {
   "cell_type": "code",
   "execution_count": 105,
   "id": "1871123f-0670-4414-bd25-38408881735f",
   "metadata": {},
   "outputs": [
    {
     "data": {
      "text/plain": [
       "count    237.000000\n",
       "mean      33.607595\n",
       "std        9.689350\n",
       "min       18.000000\n",
       "25%       28.000000\n",
       "50%       32.000000\n",
       "75%       39.000000\n",
       "max       58.000000\n",
       "Name: age, dtype: float64"
      ]
     },
     "execution_count": 105,
     "metadata": {},
     "output_type": "execute_result"
    }
   ],
   "source": [
    "# Summary statistics of thos that left the company\n",
    "age_left = df_analysis.query('attrition == True')['age'].describe()\n",
    "age_left"
   ]
  },
  {
   "cell_type": "code",
   "execution_count": 106,
   "id": "e06da2fb-ff39-4f7c-b6de-4b9cf7a2dfe8",
   "metadata": {},
   "outputs": [
    {
     "data": {
      "text/html": [
       "<div>\n",
       "<style scoped>\n",
       "    .dataframe tbody tr th:only-of-type {\n",
       "        vertical-align: middle;\n",
       "    }\n",
       "\n",
       "    .dataframe tbody tr th {\n",
       "        vertical-align: top;\n",
       "    }\n",
       "\n",
       "    .dataframe thead th {\n",
       "        text-align: right;\n",
       "    }\n",
       "</style>\n",
       "<table border=\"1\" class=\"dataframe\">\n",
       "  <thead>\n",
       "    <tr style=\"text-align: right;\">\n",
       "      <th></th>\n",
       "      <th>id</th>\n",
       "      <th>age</th>\n",
       "      <th>attrition</th>\n",
       "      <th>business_travel</th>\n",
       "      <th>department</th>\n",
       "      <th>distance_from_home</th>\n",
       "      <th>education</th>\n",
       "      <th>education_field</th>\n",
       "      <th>environment_satisfaction</th>\n",
       "      <th>gender</th>\n",
       "      <th>...</th>\n",
       "      <th>performance_rating</th>\n",
       "      <th>relationship_satisfaction</th>\n",
       "      <th>stock_option_level</th>\n",
       "      <th>total_working_years</th>\n",
       "      <th>training_times_last_year</th>\n",
       "      <th>work_life_balance</th>\n",
       "      <th>years_at_company</th>\n",
       "      <th>years_in_current_role</th>\n",
       "      <th>years_since_last_promotion</th>\n",
       "      <th>yearswithcurrmanager</th>\n",
       "    </tr>\n",
       "  </thead>\n",
       "  <tbody>\n",
       "    <tr>\n",
       "      <th>0</th>\n",
       "      <td>1</td>\n",
       "      <td>41</td>\n",
       "      <td>True</td>\n",
       "      <td>Travel_Rarely</td>\n",
       "      <td>Sales</td>\n",
       "      <td>1</td>\n",
       "      <td>College</td>\n",
       "      <td>Life Sciences</td>\n",
       "      <td>Medium</td>\n",
       "      <td>Female</td>\n",
       "      <td>...</td>\n",
       "      <td>Excellent</td>\n",
       "      <td>Low</td>\n",
       "      <td>0</td>\n",
       "      <td>8</td>\n",
       "      <td>0</td>\n",
       "      <td>Bad</td>\n",
       "      <td>6</td>\n",
       "      <td>4</td>\n",
       "      <td>0</td>\n",
       "      <td>5</td>\n",
       "    </tr>\n",
       "    <tr>\n",
       "      <th>2</th>\n",
       "      <td>3</td>\n",
       "      <td>37</td>\n",
       "      <td>True</td>\n",
       "      <td>Travel_Rarely</td>\n",
       "      <td>Research &amp; Development</td>\n",
       "      <td>2</td>\n",
       "      <td>College</td>\n",
       "      <td>Other</td>\n",
       "      <td>Very High</td>\n",
       "      <td>Male</td>\n",
       "      <td>...</td>\n",
       "      <td>Excellent</td>\n",
       "      <td>Good</td>\n",
       "      <td>0</td>\n",
       "      <td>7</td>\n",
       "      <td>3</td>\n",
       "      <td>Better</td>\n",
       "      <td>0</td>\n",
       "      <td>0</td>\n",
       "      <td>0</td>\n",
       "      <td>0</td>\n",
       "    </tr>\n",
       "  </tbody>\n",
       "</table>\n",
       "<p>2 rows × 29 columns</p>\n",
       "</div>"
      ],
      "text/plain": [
       "   id  age  attrition business_travel              department  \\\n",
       "0   1   41       True   Travel_Rarely                   Sales   \n",
       "2   3   37       True   Travel_Rarely  Research & Development   \n",
       "\n",
       "   distance_from_home education education_field environment_satisfaction  \\\n",
       "0                   1   College   Life Sciences                   Medium   \n",
       "2                   2   College           Other                Very High   \n",
       "\n",
       "   gender  ... performance_rating  relationship_satisfaction  \\\n",
       "0  Female  ...          Excellent                        Low   \n",
       "2    Male  ...          Excellent                       Good   \n",
       "\n",
       "  stock_option_level total_working_years training_times_last_year  \\\n",
       "0                  0                   8                        0   \n",
       "2                  0                   7                        3   \n",
       "\n",
       "   work_life_balance  years_at_company  years_in_current_role  \\\n",
       "0                Bad                 6                      4   \n",
       "2             Better                 0                      0   \n",
       "\n",
       "   years_since_last_promotion yearswithcurrmanager  \n",
       "0                           0                    5  \n",
       "2                           0                    0  \n",
       "\n",
       "[2 rows x 29 columns]"
      ]
     },
     "execution_count": 106,
     "metadata": {},
     "output_type": "execute_result"
    }
   ],
   "source": [
    "df_left = df_analysis.query('attrition == True')\n",
    "df_left.head(2)"
   ]
  },
  {
   "cell_type": "code",
   "execution_count": 107,
   "id": "64572b79-e5b1-4806-b29e-767a431c213c",
   "metadata": {},
   "outputs": [
    {
     "data": {
      "image/png": "[encoded data removed]",
      "text/plain": [
       "<Figure size 1500x600 with 2 Axes>"
      ]
     },
     "metadata": {},
     "output_type": "display_data"
    }
   ],
   "source": [
    "#set seaborn plotting aesthetics as default\n",
    "sns.set()\n",
    "\n",
    "#define plotting region (2 rows, 2 columns)\n",
    "fig, axes = plt.subplots(1, 2, figsize=(15, 6))\n",
    "\n",
    "# First plot\n",
    "# Sets the title and the x-axis label\n",
    "sns.histplot(data=df_stayed, x=\"age\", color='b', ax=axes[0]).set(title=\"Age distribution of Employees That Stayed\", xlabel='Age')\n",
    "\n",
    "# Second plot\n",
    "# Sets the title and the x-axis label\n",
    "sns.histplot(data=df_left, x=\"age\", color='r', ax=axes[1]).set(title=\"Age distribution of Ex-Employees\", xlabel='Age');"
   ]
  },
  {
   "cell_type": "markdown",
   "id": "2af6e0fc-3540-43ba-848c-bc5dc29f7307",
   "metadata": {},
   "source": [
    "From the charts above, \n",
    "- The distribution of employee that stayed look like a normal distribution\n",
    "- While the distribution of the employees that left is right skewed.\n",
    "- More of those that left are younger than 35.\n",
    "- More of those that stayed are older than 35.\n",
    "\n",
    "**Conclusion.**  \n",
    "- More of those that left are younger than 35 and more of those that stayed are older than 35.  \n",
    "- This does not mean those that are younger than 35 are more likely to leave than those older than 35 as other factors might affect attrition rate.\n",
    "\n",
    "**Limitation**  \n",
    "- The count of those that stayed are more than 5 times those that left."
   ]
  },
  {
   "cell_type": "markdown",
   "id": "3df2b823-c4d6-4e17-a577-bf0a779596ee",
   "metadata": {},
   "source": [
    "#### Is Income the main factor in employee attrition?"
   ]
  },
  {
   "cell_type": "code",
   "execution_count": 108,
   "id": "66535cb5-6ffe-45c0-9f68-96be8635261f",
   "metadata": {},
   "outputs": [
    {
     "data": {
      "image/png": "[encoded data removed]",
      "text/plain": [
       "<Figure size 1500x600 with 2 Axes>"
      ]
     },
     "metadata": {},
     "output_type": "display_data"
    }
   ],
   "source": [
    "#set seaborn plotting aesthetics as default\n",
    "sns.set()\n",
    "\n",
    "#define plotting region (2 rows, 2 columns)\n",
    "fig, axes = plt.subplots(1, 2, figsize=(15, 6))\n",
    "\n",
    "# First plot\n",
    "# Sets the title of the plot, the x-axis and y-axis labels\n",
    "sns.histplot(data=df_stayed, x=\"monthly_income\", color='b', ax=axes[0]).set(title=\"Income distribution of Employees That Stayed\", xlabel='Monthly Income', ylabel='Frequency')\n",
    "\n",
    "# Second plot\n",
    "# Sets the title of the plot, the x-axis and y-axis labels\n",
    "sns.histplot(data=df_left, x=\"monthly_income\", color='r', ax=axes[1]).set(title=\"Income distribution of Ex-Employees\", xlabel='Monthly Income', ylabel='Frequency');"
   ]
  },
  {
   "cell_type": "markdown",
   "id": "167816fc-8bf7-491c-9379-da00f6f9f49d",
   "metadata": {},
   "source": [
    "From the charts above, it can be said that income alone is not a major factor of employee attrition as both charts are right skewe.\n",
    "\n",
    "**Limitation.**\n",
    "- Adding other factors with income might lead to it being a major factor.\n",
    "- The sample of employees that did not leave the company is not as much as those that are still in the company."
   ]
  },
  {
   "cell_type": "markdown",
   "id": "77e3a02c-aeef-4ba8-9dea-9e40b9d42bd9",
   "metadata": {},
   "source": [
    "#### How does work-life balance impact the overall attrition rate??"
   ]
  },
  {
   "cell_type": "code",
   "execution_count": 109,
   "id": "1ce56e4f-08c9-4c5a-8524-f210d0132177",
   "metadata": {
    "tags": []
   },
   "outputs": [
    {
     "data": {
      "text/plain": [
       "id                            0.161224\n",
       "age                           0.161224\n",
       "attrition                     0.161224\n",
       "business_travel               0.161224\n",
       "department                    0.161224\n",
       "distance_from_home            0.161224\n",
       "education                     0.161224\n",
       "education_field               0.161224\n",
       "environment_satisfaction      0.161224\n",
       "gender                        0.161224\n",
       "job_involvement               0.161224\n",
       "job_level                     0.161224\n",
       "job_role                      0.161224\n",
       "job_satisfaction              0.161224\n",
       "marital_status                0.161224\n",
       "monthly_income                0.161224\n",
       "num_companies_worked          0.161224\n",
       "overtime                      0.161224\n",
       "percent_salary_hike           0.161224\n",
       "performance_rating            0.161224\n",
       "relationship_satisfaction     0.161224\n",
       "stock_option_level            0.161224\n",
       "total_working_years           0.161224\n",
       "training_times_last_year      0.161224\n",
       "work_life_balance             0.161224\n",
       "years_at_company              0.161224\n",
       "years_in_current_role         0.161224\n",
       "years_since_last_promotion    0.161224\n",
       "yearswithcurrmanager          0.161224\n",
       "dtype: float64"
      ]
     },
     "execution_count": 109,
     "metadata": {},
     "output_type": "execute_result"
    }
   ],
   "source": [
    "attrition_rate = df_left.count()/df_analysis.count()\n",
    "attrition_rate"
   ]
  },
  {
   "cell_type": "markdown",
   "id": "dc5aef50-3c5e-4031-b91c-3911ff1f55d1",
   "metadata": {},
   "source": [
    "The attrition rate is 0,161 which is approximately 16%"
   ]
  },
  {
   "cell_type": "code",
   "execution_count": 110,
   "id": "40904967-2813-40dd-af10-17734ebe339a",
   "metadata": {},
   "outputs": [
    {
     "data": {
      "text/plain": [
       "array(['Bad', 'Better', 'Good', 'Best'], dtype=object)"
      ]
     },
     "execution_count": 110,
     "metadata": {},
     "output_type": "execute_result"
    }
   ],
   "source": [
    "# Unique values in the work life balance column\n",
    "df_analysis.work_life_balance.unique()"
   ]
  },
  {
   "cell_type": "code",
   "execution_count": 111,
   "id": "5269878d-c09a-416f-b4b2-ac62e1ede8cb",
   "metadata": {},
   "outputs": [
    {
     "data": {
      "image/png": "[encoded data removed]",
      "text/plain": [
       "<Figure size 1600x800 with 1 Axes>"
      ]
     },
     "metadata": {},
     "output_type": "display_data"
    }
   ],
   "source": [
    "# define Seaborn color palette to use\n",
    "palette_color = sns.color_palette('bright')\n",
    "\n",
    "# Plots the pie chart\n",
    "df_analysis.groupby('work_life_balance').size().plot(kind='pie',autopct='%.2f')\n",
    "sns.set(rc={'figure.figsize':(10,6)}) # Sets the figure size\n",
    "plt.title(\"Percentage of All Employees' Work-Life-Balance\") # Title of the chart\n",
    "plt.ylabel(\"\") # Removes \"None\" from the y-axis.\n",
    "plt.show();"
   ]
  },
  {
   "cell_type": "markdown",
   "id": "cd023a41-e47e-4de4-93c8-f042e161a851",
   "metadata": {},
   "source": [
    "From the above chart, it can be seen that\n",
    "- The percentage of employess that have a bad work-life-balance is 5.44 percent.\n",
    "- Majority of employess has a work-life-balance of better.\n",
    "- Only 10.41% of employees says their work-life-balance is in the best shape.\n",
    "\n",
    "\n",
    "The next charts will try to compare the work-life-balance of the employees that left and those that stayed."
   ]
  },
  {
   "cell_type": "code",
   "execution_count": 112,
   "id": "3a869530-5c9b-44ca-ac27-c15f26e83a47",
   "metadata": {},
   "outputs": [
    {
     "data": {
      "image/png": "[encoded data removed]",
      "text/plain": [
       "<Figure size 1200x600 with 2 Axes>"
      ]
     },
     "metadata": {},
     "output_type": "display_data"
    }
   ],
   "source": [
    "# define Seaborn color palette to use\n",
    "palette_color = sns.color_palette('bright')\n",
    "\n",
    "# Define plotting region (2 rows, 2 columns)\n",
    "fig, (ax1, ax2) = plt.subplots(ncols=2, figsize=(12, 6))\n",
    "\n",
    "# Plots the first pie chart\n",
    "# Sets the kind of plot, the percentage to round up to and position of chart\n",
    "df_stayed.groupby('work_life_balance').size().plot(kind='pie',autopct='%.2f', ax=ax1)\n",
    "ax1.set_title(\"Percentage of Employees' Work-Life-Balance\") # Title of plot.\n",
    "ax1.set_ylabel('') # Removes \"None\" from y-axis\n",
    "plt.tight_layout() # Make subplot fit into the figure size\n",
    "\n",
    "# Plots the first pie chart\n",
    "# Sets the kind of plot, the percentage to round up to and position of chart\n",
    "df_left.groupby('work_life_balance').size().plot(kind='pie',autopct='%.2f', ax=ax2)\n",
    "ax2.set_title(\"Percentage of EX-Employees' (Attrited) Work-Life-Balance\") # Title of plot.\n",
    "ax2.set_ylabel('', size=22) # Removes \"None\" from y-axis\n",
    "plt.tight_layout() # Make subplot fit into the figure size\n",
    "plt.show() # Shows plot"
   ]
  },
  {
   "cell_type": "markdown",
   "id": "32dd7715-c8a2-4618-b6db-8ff949f3db4c",
   "metadata": {},
   "source": [
    "Comparing both charts above, we observe that\n",
    "- Under 5% of employees that stayed have bad work-life-balance is bad, while more than 10% of employees that left have a bad work-life-balance.\n",
    "- Over half of the employees in both groups, those that stayed behind and those that left have either good, better or best work-life-balance, Over 95% of those that are still employed by the company and just under 90% of those that no longer work at the company.\n",
    "- Work-life-balance seems to not really factor in the attrition rate of the company."
   ]
  },
  {
   "cell_type": "markdown",
   "id": "78fc7a25-3b10-4fc7-9b28-d52afeb46665",
   "metadata": {
    "tags": []
   },
   "source": [
    "<a id='limit'></a>\n",
    "<h2 style=\"text-align: center;\">Limitations</h2>\n",
    "\n",
    "In this section, some limitations of the data are listed."
   ]
  },
  {
   "cell_type": "markdown",
   "id": "e689633a-a6ef-4d3f-95b0-40b95eeed2fd",
   "metadata": {},
   "source": [
    "Some limitations include\n",
    "- Other factors can affect employee attrition which are not given in the dataset, some are\n",
    "    - Death\n",
    "    - Retirement\n",
    "    - Relocation of employees\n",
    "    - Change of career field of employees etc.\n",
    "- Multiple factors acting together can lead to employee attrition as most of the analysis was based on one factor at a time.\n",
    "- Not all columns were individually analyzed.\n",
    "- Last but not least, `correlation does not imply causation`."
   ]
  },
  {
   "cell_type": "markdown",
   "id": "4b7cf23f-a875-4cb4-8f9f-8c10d7f815df",
   "metadata": {},
   "source": [
    "<a id='conclusions'></a>\n",
    "<h2 style=\"text-align: center;\">Conclusions</h2>\n",
    "\n",
    "\n",
    "In this section, some conclusions based on the analysis done are listed."
   ]
  },
  {
   "cell_type": "markdown",
   "id": "213d31c4-dabc-4439-8536-272f5795090b",
   "metadata": {},
   "source": [
    "- The three main factors affecting attrition based on the dataset are;\n",
    "     - Ovetime.\n",
    "     - Distance from home.\n",
    "     - Number of employees worked for.\n",
    "- Work life balance do not seem to affect employee attrition, however the ex employees have a higher rate of `bad` work life balance than the current employees.\n",
    "- Income alone is not a factor of employee attrition.\n",
    "- The higher the education level the higher the monthly income.\n",
    "- However, the average monthly income of the ex-employees are lower than the average monthly income of their colleagues with the same degree."
   ]
  }
 ],
 "metadata": {
  "kernelspec": {
   "display_name": "Python 3 (ipykernel)",
   "language": "python",
   "name": "python3"
  },
  "language_info": {
   "codemirror_mode": {
    "name": "ipython",
    "version": 3
   },
   "file_extension": ".py",
   "mimetype": "text/x-python",
   "name": "python",
   "nbconvert_exporter": "python",
   "pygments_lexer": "ipython3",
   "version": "3.10.6"
  }
 },
 "nbformat": 4,
 "nbformat_minor": 5
}
